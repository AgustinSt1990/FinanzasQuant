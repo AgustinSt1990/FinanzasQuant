{
 "cells": [
  {
   "cell_type": "markdown",
   "id": "f099d2b1",
   "metadata": {},
   "source": []
  },
  {
   "cell_type": "code",
   "execution_count": null,
   "id": "a8c5a422",
   "metadata": {},
   "outputs": [],
   "source": []
  },
  {
   "cell_type": "code",
   "execution_count": null,
   "id": "65abed72",
   "metadata": {},
   "outputs": [],
   "source": []
  },
  {
   "cell_type": "code",
   "execution_count": 32,
   "id": "3f9e90eb",
   "metadata": {
    "tags": []
   },
   "outputs": [],
   "source": [
    "#pip install juanpy"
   ]
  },
  {
   "cell_type": "raw",
   "id": "de96d72a",
   "metadata": {
    "jupyter": {
     "source_hidden": true
    },
    "tags": []
   },
   "source": [
    "Collecting juanpy\n",
    "  Downloading juanpy-1.0.0-py3-none-any.whl (3.9 kB)\n",
    "Requirement already satisfied: matplotlib in c:\\users\\agust\\anaconda3\\lib\\site-packages (from juanpy) (3.4.3)\n",
    "Requirement already satisfied: pandas in c:\\users\\agust\\anaconda3\\lib\\site-packages (from juanpy) (1.3.4)\n",
    "Collecting yfinance\n",
    "  Downloading yfinance-0.1.70-py2.py3-none-any.whl (26 kB)\n",
    "Collecting datetime\n",
    "  Downloading DateTime-4.4-py2.py3-none-any.whl (51 kB)\n",
    "Requirement already satisfied: pytz in c:\\users\\agust\\anaconda3\\lib\\site-packages (from datetime->juanpy) (2021.3)\n",
    "Requirement already satisfied: zope.interface in c:\\users\\agust\\anaconda3\\lib\\site-packages (from datetime->juanpy) (5.4.0)\n",
    "Requirement already satisfied: pillow>=6.2.0 in c:\\users\\agust\\anaconda3\\lib\\site-packages (from matplotlib->juanpy) (8.4.0)\n",
    "Requirement already satisfied: pyparsing>=2.2.1 in c:\\users\\agust\\anaconda3\\lib\\site-packages (from matplotlib->juanpy) (3.0.4)\n",
    "Requirement already satisfied: cycler>=0.10 in c:\\users\\agust\\anaconda3\\lib\\site-packages (from matplotlib->juanpy) (0.10.0)\n",
    "Requirement already satisfied: python-dateutil>=2.7 in c:\\users\\agust\\anaconda3\\lib\\site-packages (from matplotlib->juanpy) (2.8.2)\n",
    "Requirement already satisfied: kiwisolver>=1.0.1 in c:\\users\\agust\\anaconda3\\lib\\site-packages (from matplotlib->juanpy) (1.3.1)\n",
    "Requirement already satisfied: numpy>=1.16 in c:\\users\\agust\\anaconda3\\lib\\site-packages (from matplotlib->juanpy) (1.20.3)\n",
    "Requirement already satisfied: six in c:\\users\\agust\\anaconda3\\lib\\site-packages (from cycler>=0.10->matplotlib->juanpy) (1.16.0)\n",
    "Collecting multitasking>=0.0.7\n",
    "  Downloading multitasking-0.0.10.tar.gz (8.2 kB)\n",
    "Requirement already satisfied: requests>=2.26 in c:\\users\\agust\\anaconda3\\lib\\site-packages (from yfinance->juanpy) (2.26.0)\n",
    "Requirement already satisfied: lxml>=4.5.1 in c:\\users\\agust\\anaconda3\\lib\\site-packages (from yfinance->juanpy) (4.6.3)\n",
    "Requirement already satisfied: idna<4,>=2.5 in c:\\users\\agust\\anaconda3\\lib\\site-packages (from requests>=2.26->yfinance->juanpy) (3.2)\n",
    "Requirement already satisfied: certifi>=2017.4.17 in c:\\users\\agust\\anaconda3\\lib\\site-packages (from requests>=2.26->yfinance->juanpy) (2021.10.8)\n",
    "Requirement already satisfied: urllib3<1.27,>=1.21.1 in c:\\users\\agust\\anaconda3\\lib\\site-packages (from requests>=2.26->yfinance->juanpy) (1.26.7)\n",
    "Requirement already satisfied: charset-normalizer~=2.0.0 in c:\\users\\agust\\anaconda3\\lib\\site-packages (from requests>=2.26->yfinance->juanpy) (2.0.4)\n",
    "Requirement already satisfied: setuptools in c:\\users\\agust\\anaconda3\\lib\\site-packages (from zope.interface->datetime->juanpy) (58.0.4)\n",
    "Building wheels for collected packages: multitasking\n",
    "  Building wheel for multitasking (setup.py): started\n",
    "  Building wheel for multitasking (setup.py): finished with status 'done'\n",
    "  Created wheel for multitasking: filename=multitasking-0.0.10-py3-none-any.whl size=8500 sha256=d773aab6476b9f429654cb92fef8ad9eb400b709a9e4186e2d7b22ca54f5dacd\n",
    "  Stored in directory: c:\\users\\agust\\appdata\\local\\pip\\cache\\wheels\\f2\\b5\\2c\\59ba95dcf854e542944c75fe3da584e4e3833b319735a0546c\n",
    "Successfully built multitasking\n",
    "Installing collected packages: multitasking, yfinance, datetime, juanpy\n",
    "Successfully installed datetime-4.4 juanpy-1.0.0 multitasking-0.0.10 yfinance-0.1.70\n",
    "Note: you may need to restart the kernel to use updated packages."
   ]
  },
  {
   "cell_type": "code",
   "execution_count": 33,
   "id": "f873cb39",
   "metadata": {},
   "outputs": [],
   "source": [
    "import numpy as np\n",
    "import pandas as pd\n",
    "import yfinance as yf\n",
    "from scipy.stats import skew, kurtosis"
   ]
  },
  {
   "cell_type": "markdown",
   "id": "05e50292",
   "metadata": {},
   "source": [
    "### \n",
    "\n",
    "import some data"
   ]
  },
  {
   "cell_type": "code",
   "execution_count": 34,
   "id": "d82e44ee",
   "metadata": {},
   "outputs": [
    {
     "name": "stdout",
     "output_type": "stream",
     "text": [
      "[*********************100%***********************]  1 of 1 completed\n"
     ]
    }
   ],
   "source": [
    "##FUNCION DOWNLOAD\n",
    "df = yf.download('GOOG')['Adj Close'].pct_change(1).dropna() \n",
    "\n",
    "# create variation, you want to compute de comparision on variation, you need to standarice the variability\n",
    "# obtener toda la moneda data en el same scale, need to take de varation para ver como se computan estas 2 assets( on the same scale)\n",
    "# y limpiamos los datos nulos\n",
    "\n",
    "# Crear variacion: se requiere computar la comparación entre las variaciones, para eso se debe estandarizar la variabilidad.\n",
    "# Para obtener las variaciones a comparar, se las debe ajustar para que estén dentro de la misma escala.\n",
    "# Debés estar trabajando en el mismo set para 2 tipo de monedas, sin datos nulos."
   ]
  },
  {
   "cell_type": "code",
   "execution_count": 35,
   "id": "0d227fea",
   "metadata": {},
   "outputs": [
    {
     "data": {
      "text/plain": [
       "Date\n",
       "2004-08-20    0.079430\n",
       "2004-08-23    0.010064\n",
       "2004-08-24   -0.041408\n",
       "2004-08-25    0.010775\n",
       "2004-08-26    0.018019\n",
       "                ...   \n",
       "2022-03-28    0.003028\n",
       "2022-03-29    0.009158\n",
       "2022-03-30   -0.004227\n",
       "2022-03-31   -0.020996\n",
       "2022-04-01    0.007522\n",
       "Name: Adj Close, Length: 4436, dtype: float64"
      ]
     },
     "execution_count": 35,
     "metadata": {},
     "output_type": "execute_result"
    }
   ],
   "source": [
    "df\n",
    "# mean\n",
    "# es el valor conocido como medida de tendencia central y es parte de los basic summary of the data (count)\n",
    "# funtions is (try librery: numba)\n",
    "# hint and clue's para el proyecto en cuestion\n"
   ]
  },
  {
   "cell_type": "markdown",
   "id": "b9798e3d",
   "metadata": {},
   "source": [
    "### video 7: aplication\n",
    "\n",
    "### la media\n",
    "\n",
    "how to compute the mean,\n",
    "\n",
    "y como analizarla"
   ]
  },
  {
   "cell_type": "code",
   "execution_count": 36,
   "id": "5626959d",
   "metadata": {},
   "outputs": [
    {
     "name": "stdout",
     "output_type": "stream",
     "text": [
      "Daily Mean: 0.11 % \n",
      "Anual Mean: 27.45 % \n",
      "Montly Mean: 2.29 % \n"
     ]
    }
   ],
   "source": [
    "mean = np.mean(df, axis=0) * 100\n",
    "print(f'Daily Mean: {\"%.2f\" % mean} % ')\n",
    "\n",
    "annual_mean = mean * 252 #days on a year - that market is open\n",
    "print(f'Anual Mean: {\"%.2f\" % annual_mean} % ')\n",
    "\n",
    "#day mean return - monthly mean return\n",
    "monthly_mean = mean * 21 #days on a month - this markets is open\n",
    "print(f'Montly Mean: {\"%.2f\" % monthly_mean} % ')"
   ]
  },
  {
   "cell_type": "markdown",
   "id": "3b6eadc0",
   "metadata": {},
   "source": [
    "workshop 3\n",
    "variacion del precio por superficie, y categorizame a partir de que superficie empieza a ser caro"
   ]
  },
  {
   "cell_type": "markdown",
   "id": "ad405ef1",
   "metadata": {},
   "source": [
    "###  video 8 - la mediana\n",
    "### video 9 - extreme value problem\n",
    "### video 10 - Central tendency messure: the precentile\n",
    "### video 11 - Application"
   ]
  },
  {
   "cell_type": "code",
   "execution_count": 37,
   "id": "c6338754",
   "metadata": {},
   "outputs": [
    {
     "name": "stdout",
     "output_type": "stream",
     "text": [
      "Daily Median: 0.08 %\n"
     ]
    }
   ],
   "source": [
    "### video 9\n",
    "\n",
    "median = np.median(df, axis=0) * 100\n",
    "print (f'Daily Median: {\"%.2f\" % median} %')\n"
   ]
  },
  {
   "cell_type": "code",
   "execution_count": 38,
   "id": "ea645b08",
   "metadata": {},
   "outputs": [],
   "source": [
    "### percentile\n",
    "# comprender la distribucion, si ordenamos lso valores ascendentemente\n"
   ]
  },
  {
   "cell_type": "code",
   "execution_count": 39,
   "id": "c3503900",
   "metadata": {},
   "outputs": [
    {
     "name": "stdout",
     "output_type": "stream",
     "text": [
      "Centile 10%: -1.87 %\n",
      "Centile 50%: 0.08 %\n",
      "Centile 99%: 5.71 %\n"
     ]
    }
   ],
   "source": [
    "###  video 11 - Aplication\n",
    "\n",
    "percentile_10 = np.quantile(df, 0.10, axis=0) * 100\n",
    "print (f'Centile 10%: {\"%.2f\" % percentile_10} %')\n",
    "\n",
    "percentile_50 = np.quantile(df, 0.50, axis=0) * 100\n",
    "print (f'Centile 50%: {\"%.2f\" % percentile_50} %')\n",
    "\n",
    "percentile_99 = np.quantile(df, 0.99, axis=0) * 100\n",
    "print (f'Centile 99%: {\"%.2f\" % percentile_99} %')\n",
    "\n",
    "## hacer funciones - do the quiz"
   ]
  },
  {
   "cell_type": "markdown",
   "id": "bfe27c9f",
   "metadata": {},
   "source": [
    "### MODULO 2 - "
   ]
  },
  {
   "cell_type": "markdown",
   "id": "2700bf5c",
   "metadata": {},
   "source": [
    "### Video 12 - la varianza\n",
    "\n",
    "* El indicador es importante, a medida que aumenta la varianza aumenta el riesgo de la estrategia.\n",
    "* La varianza es siempre positiva. (porque es la sumatoria de un binomio (x-bar - x_i) con exponente al cuadrado ()**2)\n",
    "\n",
    "### Video 13 - Aplication\n",
    "### video 14 la desviacion estandar\n",
    "\n",
    "* Es la raiz cuadrada de la varianza\n",
    "* el rango de un std, es la distancia que eperamos encontrar desde cada lado de la media\n",
    "\n",
    "##video 15"
   ]
  },
  {
   "cell_type": "code",
   "execution_count": 40,
   "id": "6ca1d10c",
   "metadata": {},
   "outputs": [
    {
     "name": "stdout",
     "output_type": "stream",
     "text": [
      "Daily Variance: 0.04 %\n"
     ]
    }
   ],
   "source": [
    "###  video 13\n",
    "\n",
    "var = np.var(df, axis=0)*100\n",
    "print (f'Daily Variance: {\"%.2f\" % var} %')"
   ]
  },
  {
   "cell_type": "code",
   "execution_count": 41,
   "id": "ee489af5",
   "metadata": {},
   "outputs": [
    {
     "name": "stdout",
     "output_type": "stream",
     "text": [
      "Daily Volatility: 1.91 %\n",
      "Year Volatility: 30.29 %\n",
      "Monthly Volatility: 8.74 %\n"
     ]
    }
   ],
   "source": [
    "###  video 15\n",
    "\n",
    "# annualization var : var_annualy = var daily * 252\n",
    "# Annualizarion std : sqrt(var_annualy) = sqrt(var daily * 252) = sqrt(var_daily) * sqrt(252)\n",
    "\n",
    "\n",
    "std = np.std(df, axis=0)*100\n",
    "print (f'Daily Volatility: {\"%.2f\" % std} %')\n",
    "\n",
    "annual_std = np.std(df, axis=0)*100 * np.sqrt(252)\n",
    "print (f'Year Volatility: {\"%.2f\" % annual_std} %')\n",
    "\n",
    "monthly_std = np.std(df, axis=0)*100 * np.sqrt(21)\n",
    "print (f'Monthly Volatility: {\"%.2f\" % monthly_std} %')"
   ]
  },
  {
   "cell_type": "markdown",
   "id": "2c64818e",
   "metadata": {},
   "source": [
    "###  modulo 3"
   ]
  },
  {
   "cell_type": "markdown",
   "id": "7471b4ed",
   "metadata": {},
   "source": [
    "###  Video 16 - covarianza\n",
    "\n",
    "* first relationship betwen two sets of datos\n",
    "* el mod, si es negativo es porque los datos estan de los otros lados de las medias del otra columna\n",
    "\n",
    "### video 17 - Assets covarianza\n"
   ]
  },
  {
   "cell_type": "code",
   "execution_count": 42,
   "id": "88cf9769",
   "metadata": {},
   "outputs": [
    {
     "name": "stdout",
     "output_type": "stream",
     "text": [
      "[*********************100%***********************]  2 of 2 completed\n"
     ]
    },
    {
     "data": {
      "text/html": [
       "<div>\n",
       "<style scoped>\n",
       "    .dataframe tbody tr th:only-of-type {\n",
       "        vertical-align: middle;\n",
       "    }\n",
       "\n",
       "    .dataframe tbody tr th {\n",
       "        vertical-align: top;\n",
       "    }\n",
       "\n",
       "    .dataframe thead th {\n",
       "        text-align: right;\n",
       "    }\n",
       "</style>\n",
       "<table border=\"1\" class=\"dataframe\">\n",
       "  <thead>\n",
       "    <tr style=\"text-align: right;\">\n",
       "      <th></th>\n",
       "      <th>EURUSD=X</th>\n",
       "      <th>GOOG</th>\n",
       "    </tr>\n",
       "    <tr>\n",
       "      <th>Date</th>\n",
       "      <th></th>\n",
       "      <th></th>\n",
       "    </tr>\n",
       "  </thead>\n",
       "  <tbody>\n",
       "    <tr>\n",
       "      <th>2004-08-20</th>\n",
       "      <td>-0.004042</td>\n",
       "      <td>0.079430</td>\n",
       "    </tr>\n",
       "    <tr>\n",
       "      <th>2004-08-23</th>\n",
       "      <td>-0.013793</td>\n",
       "      <td>0.010064</td>\n",
       "    </tr>\n",
       "    <tr>\n",
       "      <th>2004-08-24</th>\n",
       "      <td>-0.005763</td>\n",
       "      <td>-0.041408</td>\n",
       "    </tr>\n",
       "    <tr>\n",
       "      <th>2004-08-25</th>\n",
       "      <td>0.000338</td>\n",
       "      <td>0.010775</td>\n",
       "    </tr>\n",
       "    <tr>\n",
       "      <th>2004-08-26</th>\n",
       "      <td>0.001077</td>\n",
       "      <td>0.018019</td>\n",
       "    </tr>\n",
       "    <tr>\n",
       "      <th>...</th>\n",
       "      <td>...</td>\n",
       "      <td>...</td>\n",
       "    </tr>\n",
       "    <tr>\n",
       "      <th>2022-03-28</th>\n",
       "      <td>-0.002515</td>\n",
       "      <td>0.003028</td>\n",
       "    </tr>\n",
       "    <tr>\n",
       "      <th>2022-03-29</th>\n",
       "      <td>0.001088</td>\n",
       "      <td>0.009158</td>\n",
       "    </tr>\n",
       "    <tr>\n",
       "      <th>2022-03-30</th>\n",
       "      <td>0.008884</td>\n",
       "      <td>-0.004227</td>\n",
       "    </tr>\n",
       "    <tr>\n",
       "      <th>2022-03-31</th>\n",
       "      <td>0.006340</td>\n",
       "      <td>-0.020996</td>\n",
       "    </tr>\n",
       "    <tr>\n",
       "      <th>2022-04-01</th>\n",
       "      <td>-0.008016</td>\n",
       "      <td>0.007522</td>\n",
       "    </tr>\n",
       "  </tbody>\n",
       "</table>\n",
       "<p>4596 rows × 2 columns</p>\n",
       "</div>"
      ],
      "text/plain": [
       "            EURUSD=X      GOOG\n",
       "Date                          \n",
       "2004-08-20 -0.004042  0.079430\n",
       "2004-08-23 -0.013793  0.010064\n",
       "2004-08-24 -0.005763 -0.041408\n",
       "2004-08-25  0.000338  0.010775\n",
       "2004-08-26  0.001077  0.018019\n",
       "...              ...       ...\n",
       "2022-03-28 -0.002515  0.003028\n",
       "2022-03-29  0.001088  0.009158\n",
       "2022-03-30  0.008884 -0.004227\n",
       "2022-03-31  0.006340 -0.020996\n",
       "2022-04-01 -0.008016  0.007522\n",
       "\n",
       "[4596 rows x 2 columns]"
      ]
     },
     "execution_count": 42,
     "metadata": {},
     "output_type": "execute_result"
    }
   ],
   "source": [
    "### video 17\n",
    "\n",
    "#import several assets\n",
    "\n",
    "df = yf.download(['GOOG', 'EURUSD=X'])['Adj Close'].pct_change(1).dropna()\n",
    "df"
   ]
  },
  {
   "cell_type": "code",
   "execution_count": 43,
   "id": "ca7f0595",
   "metadata": {},
   "outputs": [
    {
     "data": {
      "text/plain": [
       "array([[5.35405548e-05, 6.68440524e-06],\n",
       "       [6.68440524e-06, 3.51421640e-04]])"
      ]
     },
     "execution_count": 43,
     "metadata": {},
     "output_type": "execute_result"
    }
   ],
   "source": [
    "# variancce cov matriz\n",
    "\n",
    "mat = np.cov(df, rowvar=False) ### default: each raw is a sample / False porque cada columna es una categoria\n",
    "mat\n",
    "\n",
    "# en el elemento 11, es la varianza de google, y el 22, es la varianza del otro activo"
   ]
  },
  {
   "cell_type": "code",
   "execution_count": 44,
   "id": "8ef53f69",
   "metadata": {},
   "outputs": [
    {
     "data": {
      "text/plain": [
       "6.68440524485078e-06"
      ]
     },
     "execution_count": 44,
     "metadata": {},
     "output_type": "execute_result"
    }
   ],
   "source": [
    "# covarianza\n",
    "\n",
    "mat[0][1]"
   ]
  },
  {
   "cell_type": "code",
   "execution_count": 45,
   "id": "405073a0",
   "metadata": {},
   "outputs": [
    {
     "name": "stdout",
     "output_type": "stream",
     "text": [
      "[*********************100%***********************]  3 of 3 completed\n"
     ]
    },
    {
     "data": {
      "text/html": [
       "<div>\n",
       "<style scoped>\n",
       "    .dataframe tbody tr th:only-of-type {\n",
       "        vertical-align: middle;\n",
       "    }\n",
       "\n",
       "    .dataframe tbody tr th {\n",
       "        vertical-align: top;\n",
       "    }\n",
       "\n",
       "    .dataframe thead th {\n",
       "        text-align: right;\n",
       "    }\n",
       "</style>\n",
       "<table border=\"1\" class=\"dataframe\">\n",
       "  <thead>\n",
       "    <tr style=\"text-align: right;\">\n",
       "      <th></th>\n",
       "      <th>EURUSD=X</th>\n",
       "      <th>GOOG</th>\n",
       "      <th>MSFT</th>\n",
       "    </tr>\n",
       "  </thead>\n",
       "  <tbody>\n",
       "    <tr>\n",
       "      <th>EURUSD=X</th>\n",
       "      <td>0.000054</td>\n",
       "      <td>0.000007</td>\n",
       "      <td>0.000010</td>\n",
       "    </tr>\n",
       "    <tr>\n",
       "      <th>GOOG</th>\n",
       "      <td>0.000007</td>\n",
       "      <td>0.000351</td>\n",
       "      <td>0.000170</td>\n",
       "    </tr>\n",
       "    <tr>\n",
       "      <th>MSFT</th>\n",
       "      <td>0.000010</td>\n",
       "      <td>0.000170</td>\n",
       "      <td>0.000278</td>\n",
       "    </tr>\n",
       "  </tbody>\n",
       "</table>\n",
       "</div>"
      ],
      "text/plain": [
       "          EURUSD=X      GOOG      MSFT\n",
       "EURUSD=X  0.000054  0.000007  0.000010\n",
       "GOOG      0.000007  0.000351  0.000170\n",
       "MSFT      0.000010  0.000170  0.000278"
      ]
     },
     "execution_count": 45,
     "metadata": {},
     "output_type": "execute_result"
    }
   ],
   "source": [
    "# Variancae Covaranza  matrix\n",
    "df = yf.download(['GOOG', 'EURUSD=X', 'MSFT'])['Adj Close'].pct_change(1).dropna()\n",
    "mat = np.cov(df, rowvar=False) ### default: each raw is a sample / False porque cada columna es una muestra\n",
    "pd.DataFrame(mat, columns = df.columns, index=df.columns)"
   ]
  },
  {
   "cell_type": "markdown",
   "id": "a773cf2a",
   "metadata": {},
   "source": [
    "###  video 19 - correlation\n",
    "\n",
    "correlation: standarizado valor de covaranza.\n",
    "\n",
    "-1 < coor < 0: negative relationship   \n",
    "corr = 0 : no relationship   \n",
    "0 < corr < 1: Positive relationship\n",
    "\n"
   ]
  },
  {
   "cell_type": "code",
   "execution_count": 46,
   "id": "a53dd5c2",
   "metadata": {},
   "outputs": [
    {
     "name": "stdout",
     "output_type": "stream",
     "text": [
      "[*********************100%***********************]  5 of 5 completed\n"
     ]
    },
    {
     "data": {
      "text/html": [
       "<div>\n",
       "<style scoped>\n",
       "    .dataframe tbody tr th:only-of-type {\n",
       "        vertical-align: middle;\n",
       "    }\n",
       "\n",
       "    .dataframe tbody tr th {\n",
       "        vertical-align: top;\n",
       "    }\n",
       "\n",
       "    .dataframe thead th {\n",
       "        text-align: right;\n",
       "    }\n",
       "</style>\n",
       "<table border=\"1\" class=\"dataframe\">\n",
       "  <thead>\n",
       "    <tr style=\"text-align: right;\">\n",
       "      <th></th>\n",
       "      <th>AMZN</th>\n",
       "      <th>EURUSD=X</th>\n",
       "      <th>GOOG</th>\n",
       "      <th>MSFT</th>\n",
       "      <th>TSLA</th>\n",
       "    </tr>\n",
       "  </thead>\n",
       "  <tbody>\n",
       "    <tr>\n",
       "      <th>AMZN</th>\n",
       "      <td>1.000000</td>\n",
       "      <td>0.035207</td>\n",
       "      <td>0.574757</td>\n",
       "      <td>0.533884</td>\n",
       "      <td>0.323785</td>\n",
       "    </tr>\n",
       "    <tr>\n",
       "      <th>EURUSD=X</th>\n",
       "      <td>0.035207</td>\n",
       "      <td>1.000000</td>\n",
       "      <td>-0.002355</td>\n",
       "      <td>-0.009398</td>\n",
       "      <td>-0.010587</td>\n",
       "    </tr>\n",
       "    <tr>\n",
       "      <th>GOOG</th>\n",
       "      <td>0.574757</td>\n",
       "      <td>-0.002355</td>\n",
       "      <td>1.000000</td>\n",
       "      <td>0.627242</td>\n",
       "      <td>0.310225</td>\n",
       "    </tr>\n",
       "    <tr>\n",
       "      <th>MSFT</th>\n",
       "      <td>0.533884</td>\n",
       "      <td>-0.009398</td>\n",
       "      <td>0.627242</td>\n",
       "      <td>1.000000</td>\n",
       "      <td>0.334530</td>\n",
       "    </tr>\n",
       "    <tr>\n",
       "      <th>TSLA</th>\n",
       "      <td>0.323785</td>\n",
       "      <td>-0.010587</td>\n",
       "      <td>0.310225</td>\n",
       "      <td>0.334530</td>\n",
       "      <td>1.000000</td>\n",
       "    </tr>\n",
       "  </tbody>\n",
       "</table>\n",
       "</div>"
      ],
      "text/plain": [
       "              AMZN  EURUSD=X      GOOG      MSFT      TSLA\n",
       "AMZN      1.000000  0.035207  0.574757  0.533884  0.323785\n",
       "EURUSD=X  0.035207  1.000000 -0.002355 -0.009398 -0.010587\n",
       "GOOG      0.574757 -0.002355  1.000000  0.627242  0.310225\n",
       "MSFT      0.533884 -0.009398  0.627242  1.000000  0.334530\n",
       "TSLA      0.323785 -0.010587  0.310225  0.334530  1.000000"
      ]
     },
     "execution_count": 46,
     "metadata": {},
     "output_type": "execute_result"
    }
   ],
   "source": [
    "### Correlation matrix\n",
    "df = yf.download(['GOOG', 'EURUSD=X', 'MSFT','AMZN', 'TSLA'])['Adj Close'].pct_change(1).dropna()\n",
    "\n",
    "df.corr()\n"
   ]
  },
  {
   "cell_type": "markdown",
   "id": "3791d6ca-56ac-4595-a5a2-b8e42e86cc3d",
   "metadata": {},
   "source": [
    "## Domingo: 20 de marzo de 2022\n",
    "\n",
    "### Introduction\n",
    "\n",
    "2 ejercicios:\n",
    "\n",
    "    - Compute de annualized \"risk return compound\" for microsfot price (yahoo: MSFT). Usar la variacion del precio\n",
    "    \n",
    "    - Calcular la covarianza and the correlation matrix fot the following category: assests [AMZN,MSFT , GOOG, EURUSD=X, \"BTC-USD\"]"
   ]
  },
  {
   "cell_type": "code",
   "execution_count": 47,
   "id": "24678ab1",
   "metadata": {},
   "outputs": [
    {
     "name": "stdout",
     "output_type": "stream",
     "text": [
      "[*********************100%***********************]  1 of 1 completed\n",
      "MSFT | \t return: %.2f mean  \t %.2f  var\n"
     ]
    }
   ],
   "source": [
    "## 1. Compute de annualized risk return coumple for microsfot price (yahoo: MSFT). Usar la variacion del precio\n",
    "\n",
    "df = yf.download( 'MSFT')['Adj Close'].pct_change(1).dropna()\n",
    "\n",
    "# compute risk return\n",
    "mean = np.mean(df, axis=0) *100 * 252\n",
    "vol = np.std(df, axis=0)* 100 *np.sqrt(252)\n",
    "\n",
    "print (f'MSFT | \\t return: {\"%.2f mean\"}  \\t {\"%.2f  var\"}')"
   ]
  },
  {
   "cell_type": "code",
   "execution_count": null,
   "id": "44eac8b6-e83a-444d-9510-721ca3f21930",
   "metadata": {},
   "outputs": [],
   "source": []
  },
  {
   "cell_type": "raw",
   "id": "418ea571-7d8f-4712-8d1a-c76a58909792",
   "metadata": {},
   "source": [
    "252"
   ]
  },
  {
   "cell_type": "code",
   "execution_count": null,
   "id": "034c591c-be0a-448d-8e7f-88ca58be3a97",
   "metadata": {},
   "outputs": [],
   "source": []
  },
  {
   "cell_type": "code",
   "execution_count": null,
   "id": "f6fc927e-9ec5-4a81-8d76-0d28707d17c5",
   "metadata": {},
   "outputs": [],
   "source": []
  },
  {
   "cell_type": "code",
   "execution_count": 48,
   "id": "8f3b45cc",
   "metadata": {
    "tags": []
   },
   "outputs": [
    {
     "name": "stdout",
     "output_type": "stream",
     "text": [
      "[*********************100%***********************]  5 of 5 completed\n"
     ]
    },
    {
     "data": {
      "text/html": [
       "<div>\n",
       "<style scoped>\n",
       "    .dataframe tbody tr th:only-of-type {\n",
       "        vertical-align: middle;\n",
       "    }\n",
       "\n",
       "    .dataframe tbody tr th {\n",
       "        vertical-align: top;\n",
       "    }\n",
       "\n",
       "    .dataframe thead tr th {\n",
       "        text-align: left;\n",
       "    }\n",
       "\n",
       "    .dataframe thead tr:last-of-type th {\n",
       "        text-align: right;\n",
       "    }\n",
       "</style>\n",
       "<table border=\"1\" class=\"dataframe\">\n",
       "  <thead>\n",
       "    <tr>\n",
       "      <th></th>\n",
       "      <th colspan=\"5\" halign=\"left\">Adj Close</th>\n",
       "      <th colspan=\"5\" halign=\"left\">Close</th>\n",
       "      <th>...</th>\n",
       "      <th colspan=\"5\" halign=\"left\">Open</th>\n",
       "      <th colspan=\"5\" halign=\"left\">Volume</th>\n",
       "    </tr>\n",
       "    <tr>\n",
       "      <th></th>\n",
       "      <th>AMZN</th>\n",
       "      <th>BTC-USD</th>\n",
       "      <th>EURUSD=X</th>\n",
       "      <th>GOOG</th>\n",
       "      <th>MSFT</th>\n",
       "      <th>AMZN</th>\n",
       "      <th>BTC-USD</th>\n",
       "      <th>EURUSD=X</th>\n",
       "      <th>GOOG</th>\n",
       "      <th>MSFT</th>\n",
       "      <th>...</th>\n",
       "      <th>AMZN</th>\n",
       "      <th>BTC-USD</th>\n",
       "      <th>EURUSD=X</th>\n",
       "      <th>GOOG</th>\n",
       "      <th>MSFT</th>\n",
       "      <th>AMZN</th>\n",
       "      <th>BTC-USD</th>\n",
       "      <th>EURUSD=X</th>\n",
       "      <th>GOOG</th>\n",
       "      <th>MSFT</th>\n",
       "    </tr>\n",
       "    <tr>\n",
       "      <th>Date</th>\n",
       "      <th></th>\n",
       "      <th></th>\n",
       "      <th></th>\n",
       "      <th></th>\n",
       "      <th></th>\n",
       "      <th></th>\n",
       "      <th></th>\n",
       "      <th></th>\n",
       "      <th></th>\n",
       "      <th></th>\n",
       "      <th></th>\n",
       "      <th></th>\n",
       "      <th></th>\n",
       "      <th></th>\n",
       "      <th></th>\n",
       "      <th></th>\n",
       "      <th></th>\n",
       "      <th></th>\n",
       "      <th></th>\n",
       "      <th></th>\n",
       "      <th></th>\n",
       "    </tr>\n",
       "  </thead>\n",
       "  <tbody>\n",
       "    <tr>\n",
       "      <th>2014-09-17</th>\n",
       "      <td>324.000000</td>\n",
       "      <td>457.334015</td>\n",
       "      <td>1.295908</td>\n",
       "      <td>583.168884</td>\n",
       "      <td>40.641502</td>\n",
       "      <td>324.000000</td>\n",
       "      <td>457.334015</td>\n",
       "      <td>1.295908</td>\n",
       "      <td>583.168884</td>\n",
       "      <td>46.520000</td>\n",
       "      <td>...</td>\n",
       "      <td>327.760010</td>\n",
       "      <td>465.864014</td>\n",
       "      <td>1.295908</td>\n",
       "      <td>578.421936</td>\n",
       "      <td>46.259998</td>\n",
       "      <td>4136000.0</td>\n",
       "      <td>21056800.0</td>\n",
       "      <td>0.0</td>\n",
       "      <td>1692835.0</td>\n",
       "      <td>38311900.0</td>\n",
       "    </tr>\n",
       "    <tr>\n",
       "      <th>2014-09-18</th>\n",
       "      <td>325.000000</td>\n",
       "      <td>424.440002</td>\n",
       "      <td>1.285000</td>\n",
       "      <td>587.656616</td>\n",
       "      <td>40.781292</td>\n",
       "      <td>325.000000</td>\n",
       "      <td>424.440002</td>\n",
       "      <td>1.285000</td>\n",
       "      <td>587.656616</td>\n",
       "      <td>46.680000</td>\n",
       "      <td>...</td>\n",
       "      <td>325.440002</td>\n",
       "      <td>456.859985</td>\n",
       "      <td>1.285017</td>\n",
       "      <td>585.392822</td>\n",
       "      <td>46.590000</td>\n",
       "      <td>2576900.0</td>\n",
       "      <td>34483200.0</td>\n",
       "      <td>0.0</td>\n",
       "      <td>1444555.0</td>\n",
       "      <td>35556600.0</td>\n",
       "    </tr>\n",
       "    <tr>\n",
       "      <th>2014-09-19</th>\n",
       "      <td>331.320007</td>\n",
       "      <td>394.795990</td>\n",
       "      <td>1.292006</td>\n",
       "      <td>594.447937</td>\n",
       "      <td>41.515148</td>\n",
       "      <td>331.320007</td>\n",
       "      <td>394.795990</td>\n",
       "      <td>1.292006</td>\n",
       "      <td>594.447937</td>\n",
       "      <td>47.520000</td>\n",
       "      <td>...</td>\n",
       "      <td>327.600006</td>\n",
       "      <td>424.102997</td>\n",
       "      <td>1.292140</td>\n",
       "      <td>589.880493</td>\n",
       "      <td>46.810001</td>\n",
       "      <td>6886200.0</td>\n",
       "      <td>37919700.0</td>\n",
       "      <td>0.0</td>\n",
       "      <td>3736631.0</td>\n",
       "      <td>202522400.0</td>\n",
       "    </tr>\n",
       "    <tr>\n",
       "      <th>2014-09-22</th>\n",
       "      <td>324.500000</td>\n",
       "      <td>402.152008</td>\n",
       "      <td>1.284142</td>\n",
       "      <td>585.761780</td>\n",
       "      <td>41.113270</td>\n",
       "      <td>324.500000</td>\n",
       "      <td>402.152008</td>\n",
       "      <td>1.284142</td>\n",
       "      <td>585.761780</td>\n",
       "      <td>47.060001</td>\n",
       "      <td>...</td>\n",
       "      <td>328.489990</td>\n",
       "      <td>399.100006</td>\n",
       "      <td>1.284076</td>\n",
       "      <td>592.194153</td>\n",
       "      <td>47.299999</td>\n",
       "      <td>3109700.0</td>\n",
       "      <td>24127600.0</td>\n",
       "      <td>0.0</td>\n",
       "      <td>1689526.0</td>\n",
       "      <td>38686100.0</td>\n",
       "    </tr>\n",
       "    <tr>\n",
       "      <th>2014-09-23</th>\n",
       "      <td>323.630005</td>\n",
       "      <td>435.790985</td>\n",
       "      <td>1.285149</td>\n",
       "      <td>579.538879</td>\n",
       "      <td>40.676468</td>\n",
       "      <td>323.630005</td>\n",
       "      <td>435.790985</td>\n",
       "      <td>1.285149</td>\n",
       "      <td>579.538879</td>\n",
       "      <td>46.560001</td>\n",
       "      <td>...</td>\n",
       "      <td>322.459991</td>\n",
       "      <td>402.092010</td>\n",
       "      <td>1.285298</td>\n",
       "      <td>585.243225</td>\n",
       "      <td>46.849998</td>\n",
       "      <td>2352600.0</td>\n",
       "      <td>45099500.0</td>\n",
       "      <td>0.0</td>\n",
       "      <td>1471429.0</td>\n",
       "      <td>33430300.0</td>\n",
       "    </tr>\n",
       "  </tbody>\n",
       "</table>\n",
       "<p>5 rows × 30 columns</p>\n",
       "</div>"
      ],
      "text/plain": [
       "             Adj Close                                               \\\n",
       "                  AMZN     BTC-USD  EURUSD=X        GOOG       MSFT   \n",
       "Date                                                                  \n",
       "2014-09-17  324.000000  457.334015  1.295908  583.168884  40.641502   \n",
       "2014-09-18  325.000000  424.440002  1.285000  587.656616  40.781292   \n",
       "2014-09-19  331.320007  394.795990  1.292006  594.447937  41.515148   \n",
       "2014-09-22  324.500000  402.152008  1.284142  585.761780  41.113270   \n",
       "2014-09-23  323.630005  435.790985  1.285149  579.538879  40.676468   \n",
       "\n",
       "                 Close                                               ...  \\\n",
       "                  AMZN     BTC-USD  EURUSD=X        GOOG       MSFT  ...   \n",
       "Date                                                                 ...   \n",
       "2014-09-17  324.000000  457.334015  1.295908  583.168884  46.520000  ...   \n",
       "2014-09-18  325.000000  424.440002  1.285000  587.656616  46.680000  ...   \n",
       "2014-09-19  331.320007  394.795990  1.292006  594.447937  47.520000  ...   \n",
       "2014-09-22  324.500000  402.152008  1.284142  585.761780  47.060001  ...   \n",
       "2014-09-23  323.630005  435.790985  1.285149  579.538879  46.560001  ...   \n",
       "\n",
       "                  Open                                               \\\n",
       "                  AMZN     BTC-USD  EURUSD=X        GOOG       MSFT   \n",
       "Date                                                                  \n",
       "2014-09-17  327.760010  465.864014  1.295908  578.421936  46.259998   \n",
       "2014-09-18  325.440002  456.859985  1.285017  585.392822  46.590000   \n",
       "2014-09-19  327.600006  424.102997  1.292140  589.880493  46.810001   \n",
       "2014-09-22  328.489990  399.100006  1.284076  592.194153  47.299999   \n",
       "2014-09-23  322.459991  402.092010  1.285298  585.243225  46.849998   \n",
       "\n",
       "               Volume                                               \n",
       "                 AMZN     BTC-USD EURUSD=X       GOOG         MSFT  \n",
       "Date                                                                \n",
       "2014-09-17  4136000.0  21056800.0      0.0  1692835.0   38311900.0  \n",
       "2014-09-18  2576900.0  34483200.0      0.0  1444555.0   35556600.0  \n",
       "2014-09-19  6886200.0  37919700.0      0.0  3736631.0  202522400.0  \n",
       "2014-09-22  3109700.0  24127600.0      0.0  1689526.0   38686100.0  \n",
       "2014-09-23  2352600.0  45099500.0      0.0  1471429.0   33430300.0  \n",
       "\n",
       "[5 rows x 30 columns]"
      ]
     },
     "execution_count": 48,
     "metadata": {},
     "output_type": "execute_result"
    }
   ],
   "source": [
    "# Calcular la covarianza and the correlation matrix for the following assests [AMZN,MSFT , GOOG, EURUSD=X, \"BTC-USD\"]\n",
    "df = yf.download(['GOOG', 'EURUSD=X', 'MSFT','AMZN', \"BTC-USD\"])\n",
    "\n",
    "df.dropna().head()\n"
   ]
  },
  {
   "cell_type": "code",
   "execution_count": 49,
   "id": "24d070fe",
   "metadata": {},
   "outputs": [
    {
     "data": {
      "text/html": [
       "<div>\n",
       "<style scoped>\n",
       "    .dataframe tbody tr th:only-of-type {\n",
       "        vertical-align: middle;\n",
       "    }\n",
       "\n",
       "    .dataframe tbody tr th {\n",
       "        vertical-align: top;\n",
       "    }\n",
       "\n",
       "    .dataframe thead th {\n",
       "        text-align: right;\n",
       "    }\n",
       "</style>\n",
       "<table border=\"1\" class=\"dataframe\">\n",
       "  <thead>\n",
       "    <tr style=\"text-align: right;\">\n",
       "      <th></th>\n",
       "      <th>AMZN</th>\n",
       "      <th>BTC-USD</th>\n",
       "      <th>EURUSD=X</th>\n",
       "      <th>GOOG</th>\n",
       "      <th>MSFT</th>\n",
       "    </tr>\n",
       "    <tr>\n",
       "      <th>Date</th>\n",
       "      <th></th>\n",
       "      <th></th>\n",
       "      <th></th>\n",
       "      <th></th>\n",
       "      <th></th>\n",
       "    </tr>\n",
       "  </thead>\n",
       "  <tbody>\n",
       "    <tr>\n",
       "      <th>2014-09-18</th>\n",
       "      <td>0.003086</td>\n",
       "      <td>-0.071926</td>\n",
       "      <td>-0.008417</td>\n",
       "      <td>0.007695</td>\n",
       "      <td>0.003440</td>\n",
       "    </tr>\n",
       "    <tr>\n",
       "      <th>2014-09-19</th>\n",
       "      <td>0.019446</td>\n",
       "      <td>-0.069843</td>\n",
       "      <td>0.005452</td>\n",
       "      <td>0.011557</td>\n",
       "      <td>0.017995</td>\n",
       "    </tr>\n",
       "    <tr>\n",
       "      <th>2014-09-20</th>\n",
       "      <td>0.000000</td>\n",
       "      <td>0.035735</td>\n",
       "      <td>0.000000</td>\n",
       "      <td>0.000000</td>\n",
       "      <td>0.000000</td>\n",
       "    </tr>\n",
       "    <tr>\n",
       "      <th>2014-09-21</th>\n",
       "      <td>0.000000</td>\n",
       "      <td>-0.024659</td>\n",
       "      <td>0.000000</td>\n",
       "      <td>0.000000</td>\n",
       "      <td>0.000000</td>\n",
       "    </tr>\n",
       "    <tr>\n",
       "      <th>2014-09-22</th>\n",
       "      <td>-0.020584</td>\n",
       "      <td>0.008352</td>\n",
       "      <td>-0.006087</td>\n",
       "      <td>-0.014612</td>\n",
       "      <td>-0.009680</td>\n",
       "    </tr>\n",
       "  </tbody>\n",
       "</table>\n",
       "</div>"
      ],
      "text/plain": [
       "                AMZN   BTC-USD  EURUSD=X      GOOG      MSFT\n",
       "Date                                                        \n",
       "2014-09-18  0.003086 -0.071926 -0.008417  0.007695  0.003440\n",
       "2014-09-19  0.019446 -0.069843  0.005452  0.011557  0.017995\n",
       "2014-09-20  0.000000  0.035735  0.000000  0.000000  0.000000\n",
       "2014-09-21  0.000000 -0.024659  0.000000  0.000000  0.000000\n",
       "2014-09-22 -0.020584  0.008352 -0.006087 -0.014612 -0.009680"
      ]
     },
     "execution_count": 49,
     "metadata": {},
     "output_type": "execute_result"
    }
   ],
   "source": [
    "df.columns\n",
    "\n",
    "df = df['Adj Close']\n",
    "df = df.pct_change(1).dropna()\n",
    "df.head()"
   ]
  },
  {
   "cell_type": "code",
   "execution_count": 50,
   "id": "4a3ad35b-362b-4793-bd24-b44dadb4a7b0",
   "metadata": {},
   "outputs": [
    {
     "data": {
      "text/html": [
       "<div>\n",
       "<style scoped>\n",
       "    .dataframe tbody tr th:only-of-type {\n",
       "        vertical-align: middle;\n",
       "    }\n",
       "\n",
       "    .dataframe tbody tr th {\n",
       "        vertical-align: top;\n",
       "    }\n",
       "\n",
       "    .dataframe thead th {\n",
       "        text-align: right;\n",
       "    }\n",
       "</style>\n",
       "<table border=\"1\" class=\"dataframe\">\n",
       "  <thead>\n",
       "    <tr style=\"text-align: right;\">\n",
       "      <th></th>\n",
       "      <th>AMZN</th>\n",
       "      <th>BTC-USD</th>\n",
       "      <th>EURUSD=X</th>\n",
       "      <th>GOOG</th>\n",
       "      <th>MSFT</th>\n",
       "    </tr>\n",
       "  </thead>\n",
       "  <tbody>\n",
       "    <tr>\n",
       "      <th>AMZN</th>\n",
       "      <td>1.000000</td>\n",
       "      <td>0.087702</td>\n",
       "      <td>0.015497</td>\n",
       "      <td>0.635468</td>\n",
       "      <td>0.634900</td>\n",
       "    </tr>\n",
       "    <tr>\n",
       "      <th>BTC-USD</th>\n",
       "      <td>0.087702</td>\n",
       "      <td>1.000000</td>\n",
       "      <td>-0.010122</td>\n",
       "      <td>0.114780</td>\n",
       "      <td>0.135076</td>\n",
       "    </tr>\n",
       "    <tr>\n",
       "      <th>EURUSD=X</th>\n",
       "      <td>0.015497</td>\n",
       "      <td>-0.010122</td>\n",
       "      <td>1.000000</td>\n",
       "      <td>-0.009342</td>\n",
       "      <td>-0.015658</td>\n",
       "    </tr>\n",
       "    <tr>\n",
       "      <th>GOOG</th>\n",
       "      <td>0.635468</td>\n",
       "      <td>0.114780</td>\n",
       "      <td>-0.009342</td>\n",
       "      <td>1.000000</td>\n",
       "      <td>0.729668</td>\n",
       "    </tr>\n",
       "    <tr>\n",
       "      <th>MSFT</th>\n",
       "      <td>0.634900</td>\n",
       "      <td>0.135076</td>\n",
       "      <td>-0.015658</td>\n",
       "      <td>0.729668</td>\n",
       "      <td>1.000000</td>\n",
       "    </tr>\n",
       "  </tbody>\n",
       "</table>\n",
       "</div>"
      ],
      "text/plain": [
       "              AMZN   BTC-USD  EURUSD=X      GOOG      MSFT\n",
       "AMZN      1.000000  0.087702  0.015497  0.635468  0.634900\n",
       "BTC-USD   0.087702  1.000000 -0.010122  0.114780  0.135076\n",
       "EURUSD=X  0.015497 -0.010122  1.000000 -0.009342 -0.015658\n",
       "GOOG      0.635468  0.114780 -0.009342  1.000000  0.729668\n",
       "MSFT      0.634900  0.135076 -0.015658  0.729668  1.000000"
      ]
     },
     "execution_count": 50,
     "metadata": {},
     "output_type": "execute_result"
    }
   ],
   "source": [
    "df.corr()"
   ]
  },
  {
   "cell_type": "code",
   "execution_count": 51,
   "id": "94193d1a",
   "metadata": {},
   "outputs": [
    {
     "data": {
      "text/html": [
       "<div>\n",
       "<style scoped>\n",
       "    .dataframe tbody tr th:only-of-type {\n",
       "        vertical-align: middle;\n",
       "    }\n",
       "\n",
       "    .dataframe tbody tr th {\n",
       "        vertical-align: top;\n",
       "    }\n",
       "\n",
       "    .dataframe thead th {\n",
       "        text-align: right;\n",
       "    }\n",
       "</style>\n",
       "<table border=\"1\" class=\"dataframe\">\n",
       "  <thead>\n",
       "    <tr style=\"text-align: right;\">\n",
       "      <th></th>\n",
       "      <th>AMZN</th>\n",
       "      <th>BTC-USD</th>\n",
       "      <th>EURUSD=X</th>\n",
       "      <th>GOOG</th>\n",
       "      <th>MSFT</th>\n",
       "    </tr>\n",
       "  </thead>\n",
       "  <tbody>\n",
       "    <tr>\n",
       "      <th>AMZN</th>\n",
       "      <td>0.000260</td>\n",
       "      <td>0.000055</td>\n",
       "      <td>1.057614e-06</td>\n",
       "      <td>1.425873e-04</td>\n",
       "      <td>1.444409e-04</td>\n",
       "    </tr>\n",
       "    <tr>\n",
       "      <th>BTC-USD</th>\n",
       "      <td>0.000055</td>\n",
       "      <td>0.001507</td>\n",
       "      <td>-1.663427e-06</td>\n",
       "      <td>6.201760e-05</td>\n",
       "      <td>7.399918e-05</td>\n",
       "    </tr>\n",
       "    <tr>\n",
       "      <th>EURUSD=X</th>\n",
       "      <td>0.000001</td>\n",
       "      <td>-0.000002</td>\n",
       "      <td>1.792106e-05</td>\n",
       "      <td>-5.504419e-07</td>\n",
       "      <td>-9.354062e-07</td>\n",
       "    </tr>\n",
       "    <tr>\n",
       "      <th>GOOG</th>\n",
       "      <td>0.000143</td>\n",
       "      <td>0.000062</td>\n",
       "      <td>-5.504419e-07</td>\n",
       "      <td>1.937181e-04</td>\n",
       "      <td>1.433155e-04</td>\n",
       "    </tr>\n",
       "    <tr>\n",
       "      <th>MSFT</th>\n",
       "      <td>0.000144</td>\n",
       "      <td>0.000074</td>\n",
       "      <td>-9.354062e-07</td>\n",
       "      <td>1.433155e-04</td>\n",
       "      <td>1.991432e-04</td>\n",
       "    </tr>\n",
       "  </tbody>\n",
       "</table>\n",
       "</div>"
      ],
      "text/plain": [
       "              AMZN   BTC-USD      EURUSD=X          GOOG          MSFT\n",
       "AMZN      0.000260  0.000055  1.057614e-06  1.425873e-04  1.444409e-04\n",
       "BTC-USD   0.000055  0.001507 -1.663427e-06  6.201760e-05  7.399918e-05\n",
       "EURUSD=X  0.000001 -0.000002  1.792106e-05 -5.504419e-07 -9.354062e-07\n",
       "GOOG      0.000143  0.000062 -5.504419e-07  1.937181e-04  1.433155e-04\n",
       "MSFT      0.000144  0.000074 -9.354062e-07  1.433155e-04  1.991432e-04"
      ]
     },
     "execution_count": 51,
     "metadata": {},
     "output_type": "execute_result"
    }
   ],
   "source": [
    "df.cov()"
   ]
  },
  {
   "cell_type": "markdown",
   "id": "eae8ef82-55fc-49de-bf27-cf0acb999b4e",
   "metadata": {},
   "source": [
    "### video 24\n",
    "\n",
    "new Chapter: estadistica combinatoria.\n",
    "\n",
    "No es para novatos, pero si ya estas trabajando en un proyecto van a explicar 2 ejericios cuya finalidad práctica es ahorrar procesamiento de computos\n",
    "\n",
    "### Permutaciones\n",
    "\n",
    "    numero de permutaciones_ posibilidad de tener todos lso elementos de nuestro set si cada elemento de nuestro set tiene la misma cantidad de columnas.\n",
    "    \n",
    "    analizar combinaciones o permutaciones, factorial, factorial 0 es 1 y de 1 es 1\n",
    "    \n",
    "### video 26\n",
    "\n",
    "    Arrangements: without repetition\n",
    "    \n",
    "    es una permutacion de \"k\" elementos en un set de \"n\" elementos, hablamos la formula, pero usamos la summary sheet\n",
    "    \n",
    "    para un arreglo, el orden tiene importancia no es lo mismo \"ab\" que \"ba\"\n",
    "    \n",
    "    hablamos de repteticion y en esta formula no tenemos repetition, la bolas no se vuelven a introducir\n",
    "    \n",
    "    A_kn = n! / (n-k)!\n",
    "    \n",
    "### Video 27: permutaciones con repeticion\n",
    "\n",
    "    Cuando sacamos una bola de la bolsa, antes de sacar otra volvemos a meterla\n",
    "    \n",
    "    por lo tanto el orden no importa \n",
    "    \n",
    "    A_kn = n**k (funcion de arreglo)\n",
    "    \n",
    "## video 28: Combinaciones sin repeticion\n",
    "\n",
    "    Podemos encontrar el numero de combinacion de \"k\" elementos in this \"n\" elements sin repeticion?\n",
    "    hay menos combinaciones que arreglos\n",
    "    \n",
    "    C_kn = n! / k!(n-k)!\n",
    "    \n",
    "    C_23 = 3/1 = 3\n",
    "    \n",
    "    con 2 elementos no importa el orden\n",
    "    \n",
    "## video 29: combinacion con repeticion\n",
    "\n",
    "    no importa el orden\n",
    "\n",
    "    C_kn = (n+k-1)! / k!(n-1)!\n",
    "    \n",
    "    C_23 = 6"
   ]
  },
  {
   "cell_type": "markdown",
   "id": "625cb410-1fcb-4fe2-8500-9616199c8230",
   "metadata": {},
   "source": [
    "## Modulo 3\n",
    "\n",
    "### video 30\n",
    "\n",
    "Ejercicio: hacer la combinaciones entre distintos activos\n"
   ]
  },
  {
   "cell_type": "code",
   "execution_count": 52,
   "id": "2702121b-5791-446f-85b6-d4e7d9aaa7ca",
   "metadata": {},
   "outputs": [
    {
     "data": {
      "text/plain": [
       "1307674368000"
      ]
     },
     "execution_count": 52,
     "metadata": {},
     "output_type": "execute_result"
    }
   ],
   "source": [
    "n = 15\n",
    "np.math.factorial(n)"
   ]
  },
  {
   "cell_type": "code",
   "execution_count": 53,
   "id": "18de4b41-df33-463a-b2e1-255c6dbc5d63",
   "metadata": {},
   "outputs": [
    {
     "name": "stdout",
     "output_type": "stream",
     "text": [
      "[*********************100%***********************]  1 of 1 completed\n"
     ]
    },
    {
     "data": {
      "text/html": [
       "<div>\n",
       "<style scoped>\n",
       "    .dataframe tbody tr th:only-of-type {\n",
       "        vertical-align: middle;\n",
       "    }\n",
       "\n",
       "    .dataframe tbody tr th {\n",
       "        vertical-align: top;\n",
       "    }\n",
       "\n",
       "    .dataframe thead th {\n",
       "        text-align: right;\n",
       "    }\n",
       "</style>\n",
       "<table border=\"1\" class=\"dataframe\">\n",
       "  <thead>\n",
       "    <tr style=\"text-align: right;\">\n",
       "      <th></th>\n",
       "      <th>Open</th>\n",
       "      <th>High</th>\n",
       "      <th>Low</th>\n",
       "      <th>Close</th>\n",
       "      <th>Adj Close</th>\n",
       "      <th>Volume</th>\n",
       "    </tr>\n",
       "    <tr>\n",
       "      <th>Date</th>\n",
       "      <th></th>\n",
       "      <th></th>\n",
       "      <th></th>\n",
       "      <th></th>\n",
       "      <th></th>\n",
       "      <th></th>\n",
       "    </tr>\n",
       "  </thead>\n",
       "  <tbody>\n",
       "    <tr>\n",
       "      <th>2003-12-01</th>\n",
       "      <td>1.203398</td>\n",
       "      <td>1.204007</td>\n",
       "      <td>1.194401</td>\n",
       "      <td>1.196501</td>\n",
       "      <td>1.196501</td>\n",
       "      <td>0</td>\n",
       "    </tr>\n",
       "    <tr>\n",
       "      <th>2003-12-02</th>\n",
       "      <td>1.196101</td>\n",
       "      <td>1.210903</td>\n",
       "      <td>1.194600</td>\n",
       "      <td>1.208897</td>\n",
       "      <td>1.208897</td>\n",
       "      <td>0</td>\n",
       "    </tr>\n",
       "    <tr>\n",
       "      <th>2003-12-03</th>\n",
       "      <td>1.209000</td>\n",
       "      <td>1.213003</td>\n",
       "      <td>1.207700</td>\n",
       "      <td>1.212298</td>\n",
       "      <td>1.212298</td>\n",
       "      <td>0</td>\n",
       "    </tr>\n",
       "    <tr>\n",
       "      <th>2003-12-04</th>\n",
       "      <td>1.212004</td>\n",
       "      <td>1.214403</td>\n",
       "      <td>1.204398</td>\n",
       "      <td>1.208094</td>\n",
       "      <td>1.208094</td>\n",
       "      <td>0</td>\n",
       "    </tr>\n",
       "    <tr>\n",
       "      <th>2003-12-05</th>\n",
       "      <td>1.207802</td>\n",
       "      <td>1.219096</td>\n",
       "      <td>1.206593</td>\n",
       "      <td>1.218695</td>\n",
       "      <td>1.218695</td>\n",
       "      <td>0</td>\n",
       "    </tr>\n",
       "    <tr>\n",
       "      <th>...</th>\n",
       "      <td>...</td>\n",
       "      <td>...</td>\n",
       "      <td>...</td>\n",
       "      <td>...</td>\n",
       "      <td>...</td>\n",
       "      <td>...</td>\n",
       "    </tr>\n",
       "    <tr>\n",
       "      <th>2022-03-28</th>\n",
       "      <td>1.098189</td>\n",
       "      <td>1.099674</td>\n",
       "      <td>1.094535</td>\n",
       "      <td>1.098189</td>\n",
       "      <td>1.098189</td>\n",
       "      <td>0</td>\n",
       "    </tr>\n",
       "    <tr>\n",
       "      <th>2022-03-29</th>\n",
       "      <td>1.099384</td>\n",
       "      <td>1.113635</td>\n",
       "      <td>1.097045</td>\n",
       "      <td>1.099384</td>\n",
       "      <td>1.099384</td>\n",
       "      <td>0</td>\n",
       "    </tr>\n",
       "    <tr>\n",
       "      <th>2022-03-30</th>\n",
       "      <td>1.109152</td>\n",
       "      <td>1.117000</td>\n",
       "      <td>1.108906</td>\n",
       "      <td>1.109152</td>\n",
       "      <td>1.109152</td>\n",
       "      <td>0</td>\n",
       "    </tr>\n",
       "    <tr>\n",
       "      <th>2022-03-31</th>\n",
       "      <td>1.116184</td>\n",
       "      <td>1.118306</td>\n",
       "      <td>1.107400</td>\n",
       "      <td>1.116184</td>\n",
       "      <td>1.116184</td>\n",
       "      <td>0</td>\n",
       "    </tr>\n",
       "    <tr>\n",
       "      <th>2022-04-01</th>\n",
       "      <td>1.107236</td>\n",
       "      <td>1.107542</td>\n",
       "      <td>1.102974</td>\n",
       "      <td>1.107236</td>\n",
       "      <td>1.107236</td>\n",
       "      <td>0</td>\n",
       "    </tr>\n",
       "  </tbody>\n",
       "</table>\n",
       "<p>4756 rows × 6 columns</p>\n",
       "</div>"
      ],
      "text/plain": [
       "                Open      High       Low     Close  Adj Close  Volume\n",
       "Date                                                                 \n",
       "2003-12-01  1.203398  1.204007  1.194401  1.196501   1.196501       0\n",
       "2003-12-02  1.196101  1.210903  1.194600  1.208897   1.208897       0\n",
       "2003-12-03  1.209000  1.213003  1.207700  1.212298   1.212298       0\n",
       "2003-12-04  1.212004  1.214403  1.204398  1.208094   1.208094       0\n",
       "2003-12-05  1.207802  1.219096  1.206593  1.218695   1.218695       0\n",
       "...              ...       ...       ...       ...        ...     ...\n",
       "2022-03-28  1.098189  1.099674  1.094535  1.098189   1.098189       0\n",
       "2022-03-29  1.099384  1.113635  1.097045  1.099384   1.099384       0\n",
       "2022-03-30  1.109152  1.117000  1.108906  1.109152   1.109152       0\n",
       "2022-03-31  1.116184  1.118306  1.107400  1.116184   1.116184       0\n",
       "2022-04-01  1.107236  1.107542  1.102974  1.107236   1.107236       0\n",
       "\n",
       "[4756 rows x 6 columns]"
      ]
     },
     "execution_count": 53,
     "metadata": {},
     "output_type": "execute_result"
    }
   ],
   "source": [
    "df = yf.download(['EURUSD=X', ])\n",
    "\n",
    "df.dropna()"
   ]
  },
  {
   "cell_type": "code",
   "execution_count": 54,
   "id": "0ca40841-7eef-43f5-b213-5cb010d44f22",
   "metadata": {},
   "outputs": [],
   "source": [
    "def combination(n, k, repetition=False):\n",
    "    if repetition:\n",
    "        C = np.math.factorial(n+k-1) / np.math.factorial(k) * np.math.factorial(n-1)\n",
    "    else:\n",
    "        C = np.math.factorial(n) / np.math.factorial(k)*np.math.factorial(n-k)\n",
    "    \n",
    "    return C\n",
    "\n",
    "def permutation(n, k, repetition=False):\n",
    "    if repetition:\n",
    "        C = n**k\n",
    "    else:\n",
    "        C = np.math.factorial(n) / np.math.factorial(n-k)\n",
    "    \n",
    "    return C"
   ]
  },
  {
   "cell_type": "code",
   "execution_count": 55,
   "id": "b8488a38-a77f-4a23-ad70-6dd257724f1d",
   "metadata": {},
   "outputs": [
    {
     "data": {
      "text/plain": [
       "3.0"
      ]
     },
     "execution_count": 55,
     "metadata": {},
     "output_type": "execute_result"
    }
   ],
   "source": [
    "combination(3,2)\n",
    "#permutation(3,2, True)"
   ]
  },
  {
   "cell_type": "markdown",
   "id": "6daad97e-58f1-4728-844d-717eadb96ff3",
   "metadata": {},
   "source": [
    "### video 33\n",
    "\n",
    "    Ejercicio:\n",
    "    \n",
    "    Compute de number of arrangements between the following currencies : USD; EUR; CAD (consideramos EURUSD dif a USDEUR)"
   ]
  },
  {
   "cell_type": "code",
   "execution_count": 56,
   "id": "5bc70845-fc7b-4b6f-b2cb-53475b800a3e",
   "metadata": {},
   "outputs": [
    {
     "data": {
      "text/plain": [
       "6.0"
      ]
     },
     "execution_count": 56,
     "metadata": {},
     "output_type": "execute_result"
    }
   ],
   "source": [
    "permutation(3,2)# repeticion es false porque no puede existir EUREUR o USDUSD, es lo mismo que combinaciones(3,2) pero *2, porque solo tenes que meter la repeticion"
   ]
  },
  {
   "cell_type": "markdown",
   "id": "4f5af42b-44b1-41fa-9579-7c7f4a184ac1",
   "metadata": {},
   "source": [
    "### Video 34\n",
    "\n",
    "Probabilidad:\n",
    "\n",
    "    Cual es la variable aleatoria, la independecia de la variable random. \n",
    "    \n",
    "    Aprender sobre probabilidad condicional\n",
    "    \n",
    "    \n",
    "### 36. interseccion\n",
    "\n",
    "    Es el evento que tienen los eventos ab en el mismo momento\n",
    "    imaginemos que las bolas de color tienen figuras, entonces si A: es bola roja y B: a bola con triangulo\n",
    "    \n",
    "    P(A) = 3/9\n",
    "    P(B) = 3/9\n",
    "    \n",
    "    P(A intersect B) = 2/9\n",
    "    \n",
    "### 37. Union\n",
    "\n",
    "    La unión entre 2 eventos es la probabilidad es de que ocurra un evento, el otro, o ambos al mismo tiempo. \n",
    "    \n",
    "    P(A union B) = P(A) + P(B) - P(A intersection B)\n",
    "\n",
    "\n",
    "### 38- eventos independientes\n",
    "\n",
    "    A,B son independientes si la probabilidad de A interseccion B, es igual al producto de las probabilidades\n",
    "    \n",
    "    Si son independientes, los assets se mueven uno sin afectar al otro\n",
    "    \n",
    "    Con replacement = True: la probabilidad de sacar una bola verde es siempre igual\n",
    "    Sin replacement= False: la probabilidad de sacar una bola verde la proxima disminuye porque ya sacamos 1\n",
    "    \n",
    "    Queremos encontrar eventos dependientes en trading para que la probabilidad varíe y poder armar estrategias en base a eso, identificacion de patrones\n",
    "    \n",
    "### 39 eventos complementarios\n",
    "\n",
    "    Es lo contrario al evento. Si A es sacar una bola roja, entonces B es sacar una bola que no sea roja."
   ]
  },
  {
   "cell_type": "code",
   "execution_count": 57,
   "id": "fcd51d5f-b0c1-4fbc-954a-f2103633ee32",
   "metadata": {},
   "outputs": [],
   "source": [
    "##VIDEO 35\n",
    "# Variable random: X\n",
    "\n",
    "# DOMINIO DE LA VARIABLE RANDOM (set) {}\n",
    "\n",
    "# weights of events. peso de los eventos (%)\n",
    "\n",
    "# omega es el dominio\n",
    "\n",
    "# la suma de la probabilidad de los eventos, debe ser igual a 1\n",
    "\n",
    "# P(omega) = 1\n",
    "\n",
    "# la variable random es un objeto estadistico: y la probabilidad de que cada evento ocurra\n"
   ]
  },
  {
   "cell_type": "markdown",
   "id": "9b127955-c84a-43ba-88d2-ef2f6c490f93",
   "metadata": {},
   "source": [
    "# LUNES 21 DE MARZO DE 2022\n",
    "## CAPITULO 4\n",
    "\n",
    "### Video 40: Probabilidad condicional\n",
    "\n",
    "    Ejemplo del juego de cartas: 2 eventos A: king card o B: heart card / 32 cartas el mazo\n",
    "    \n",
    "    P(A)_B = 1/32 / 1/4 = 1/8: AyB son independientes  porque la probabilidad es la misma que P(A)\n",
    "    \n",
    "    P(A)_B = P(A intersection B) / P(B) = P(A)\n",
    "    \n",
    "    \n",
    "### video 41: teoria de Bayes\n",
    "\n",
    "    P(A)_B = (P(B)_A * P(A)) / P(B)\n",
    "    \n",
    "    la probabilidad condicional de A respecto de B es igual a la probilidad condicional de B respecto de A por la probabilidad de A dividido la probabilidad de B\n",
    "    \n",
    "    Queremos determinar P(B)_A, por lo que determinamos todo el resto\n",
    "    \n",
    "### video 43: Introduccion\n",
    "\n",
    "    compute a conditional probability. para determinar el 50% y el 70%"
   ]
  },
  {
   "cell_type": "markdown",
   "id": "06ad82ee-9534-412f-b78d-fb84df73110c",
   "metadata": {},
   "source": [
    "# SABADO 2 DE ABRIL\n",
    "## CAPITULO 4\n",
    "\n",
    "### Video 40: Probabilidad condicional\n",
    "\n",
    "    compute a conditional probability to align at any stock market para incrementar en goodreads, determinar el incremento del 50% al 70%"
   ]
  },
  {
   "cell_type": "code",
   "execution_count": 58,
   "id": "7ea3d032-1730-42e6-b6c0-3293336b74db",
   "metadata": {},
   "outputs": [
    {
     "name": "stdout",
     "output_type": "stream",
     "text": [
      "Collecting ta\n",
      "  Downloading ta-0.9.0.tar.gz (25 kB)\n",
      "Requirement already satisfied: numpy in c:\\users\\agustin\\anaconda3.2\\lib\\site-packages (from ta) (1.20.1)\n",
      "Requirement already satisfied: pandas in c:\\users\\agustin\\anaconda3.2\\lib\\site-packages (from ta) (1.2.4)\n",
      "Requirement already satisfied: pytz>=2017.3 in c:\\users\\agustin\\anaconda3.2\\lib\\site-packages (from pandas->ta) (2021.1)\n",
      "Requirement already satisfied: python-dateutil>=2.7.3 in c:\\users\\agustin\\anaconda3.2\\lib\\site-packages (from pandas->ta) (2.8.1)\n",
      "Requirement already satisfied: six>=1.5 in c:\\users\\agustin\\anaconda3.2\\lib\\site-packages (from python-dateutil>=2.7.3->pandas->ta) (1.15.0)\n",
      "Building wheels for collected packages: ta\n",
      "  Building wheel for ta (setup.py): started\n",
      "  Building wheel for ta (setup.py): finished with status 'done'\n",
      "  Created wheel for ta: filename=ta-0.9.0-py3-none-any.whl size=28909 sha256=7a2db20275d28301c614e48e2eab0892c64b52cbf2376bde87fa582aa64758c4\n",
      "  Stored in directory: c:\\users\\agustin\\appdata\\local\\pip\\cache\\wheels\\c4\\71\\30\\9b87e7cc8350a4226ffbed6e4a6a923ac720845398895eb35d\n",
      "Successfully built ta\n",
      "Installing collected packages: ta\n",
      "Successfully installed ta-0.9.0\n"
     ]
    }
   ],
   "source": [
    "!pip install ta"
   ]
  },
  {
   "cell_type": "code",
   "execution_count": 59,
   "id": "c4dba065-151f-4dbe-b42e-9b66283d6278",
   "metadata": {},
   "outputs": [
    {
     "name": "stdout",
     "output_type": "stream",
     "text": [
      "Collecting scipy==1.7.1"
     ]
    },
    {
     "name": "stderr",
     "output_type": "stream",
     "text": [
      "ERROR: Could not install packages due to an OSError: [WinError 5] Acceso denegado: 'C:\\\\Users\\\\Agustin\\\\anaconda3.2\\\\Lib\\\\site-packages\\\\~cipy\\\\integrate\\\\lsoda.cp38-win_amd64.pyd'\n",
      "Consider using the `--user` option or check the permissions.\n",
      "\n"
     ]
    },
    {
     "name": "stdout",
     "output_type": "stream",
     "text": [
      "\n",
      "  Downloading scipy-1.7.1-cp38-cp38-win_amd64.whl (33.7 MB)\n",
      "Requirement already satisfied: numpy<1.23.0,>=1.16.5 in c:\\users\\agustin\\anaconda3.2\\lib\\site-packages (from scipy==1.7.1) (1.20.1)\n",
      "Installing collected packages: scipy\n",
      "  Attempting uninstall: scipy\n",
      "    Found existing installation: scipy 1.6.2\n",
      "    Uninstalling scipy-1.6.2:\n",
      "      Successfully uninstalled scipy-1.6.2\n"
     ]
    }
   ],
   "source": [
    "!pip install scipy==1.7.1"
   ]
  },
  {
   "cell_type": "code",
   "execution_count": 60,
   "id": "f66a1e89-8152-4733-a92f-8be54dd152a5",
   "metadata": {},
   "outputs": [],
   "source": [
    "import numpy as np\n",
    "import pandas as pd\n",
    "import yfinance as yf\n",
    "\n",
    "import warnings\n",
    "warnings.filterwarnings('ignore')"
   ]
  },
  {
   "cell_type": "code",
   "execution_count": 61,
   "id": "77a360a8-7e6b-42aa-bd24-07041cfa4c06",
   "metadata": {},
   "outputs": [],
   "source": [
    "# the code here will allow you to switch your graphics to darj mode for those who choose to code in dark mode\n",
    "\n",
    "import matplotlib.pyplot as plt\n",
    "\n",
    "import matplotlib as mpl\n",
    "from matplotlib import cycler\n",
    "colors = cycler('color',\n",
    "              ['#669FEE', '#66EE91', '#9988DD',\n",
    "              '#EECC55', '#88BB44', '#FFBBBB']\n",
    "              )\n",
    "\n",
    "plt.rc('figure', facecolor='#313233')\n",
    "plt.rc('axes', facecolor='#313233', edgecolor='none',\n",
    "      axisbelow=True, grid=True, prop_cycle=colors,\n",
    "       labelcolor='gray'\n",
    "      )\n",
    "plt.rc('grid', color='474A4A', linestyle='solid')\n",
    "plt.rc('xtick', color='gray')\n",
    "plt.rc('ytick', direction='out', color='gray')\n",
    "plt.rc('legend', facecolor='#313233', edgecolor='#313233')\n",
    "plt.rc('text', color='#C9C9C9')"
   ]
  },
  {
   "cell_type": "code",
   "execution_count": 62,
   "id": "4592de16-4315-40ea-b790-12a49bf97fca",
   "metadata": {},
   "outputs": [
    {
     "name": "stdout",
     "output_type": "stream",
     "text": [
      "[*********************100%***********************]  1 of 1 completed\n"
     ]
    },
    {
     "data": {
      "text/html": [
       "<div>\n",
       "<style scoped>\n",
       "    .dataframe tbody tr th:only-of-type {\n",
       "        vertical-align: middle;\n",
       "    }\n",
       "\n",
       "    .dataframe tbody tr th {\n",
       "        vertical-align: top;\n",
       "    }\n",
       "\n",
       "    .dataframe thead th {\n",
       "        text-align: right;\n",
       "    }\n",
       "</style>\n",
       "<table border=\"1\" class=\"dataframe\">\n",
       "  <thead>\n",
       "    <tr style=\"text-align: right;\">\n",
       "      <th></th>\n",
       "      <th>Adj Close</th>\n",
       "    </tr>\n",
       "    <tr>\n",
       "      <th>Date</th>\n",
       "      <th></th>\n",
       "    </tr>\n",
       "  </thead>\n",
       "  <tbody>\n",
       "    <tr>\n",
       "      <th>2004-08-20</th>\n",
       "      <td>0.079430</td>\n",
       "    </tr>\n",
       "    <tr>\n",
       "      <th>2004-08-23</th>\n",
       "      <td>0.010064</td>\n",
       "    </tr>\n",
       "    <tr>\n",
       "      <th>2004-08-24</th>\n",
       "      <td>-0.041408</td>\n",
       "    </tr>\n",
       "    <tr>\n",
       "      <th>2004-08-25</th>\n",
       "      <td>0.010775</td>\n",
       "    </tr>\n",
       "    <tr>\n",
       "      <th>2004-08-26</th>\n",
       "      <td>0.018019</td>\n",
       "    </tr>\n",
       "    <tr>\n",
       "      <th>...</th>\n",
       "      <td>...</td>\n",
       "    </tr>\n",
       "    <tr>\n",
       "      <th>2022-03-28</th>\n",
       "      <td>0.003028</td>\n",
       "    </tr>\n",
       "    <tr>\n",
       "      <th>2022-03-29</th>\n",
       "      <td>0.009158</td>\n",
       "    </tr>\n",
       "    <tr>\n",
       "      <th>2022-03-30</th>\n",
       "      <td>-0.004227</td>\n",
       "    </tr>\n",
       "    <tr>\n",
       "      <th>2022-03-31</th>\n",
       "      <td>-0.020996</td>\n",
       "    </tr>\n",
       "    <tr>\n",
       "      <th>2022-04-01</th>\n",
       "      <td>0.007522</td>\n",
       "    </tr>\n",
       "  </tbody>\n",
       "</table>\n",
       "<p>4436 rows × 1 columns</p>\n",
       "</div>"
      ],
      "text/plain": [
       "            Adj Close\n",
       "Date                 \n",
       "2004-08-20   0.079430\n",
       "2004-08-23   0.010064\n",
       "2004-08-24  -0.041408\n",
       "2004-08-25   0.010775\n",
       "2004-08-26   0.018019\n",
       "...               ...\n",
       "2022-03-28   0.003028\n",
       "2022-03-29   0.009158\n",
       "2022-03-30  -0.004227\n",
       "2022-03-31  -0.020996\n",
       "2022-04-01   0.007522\n",
       "\n",
       "[4436 rows x 1 columns]"
      ]
     },
     "execution_count": 62,
     "metadata": {},
     "output_type": "execute_result"
    }
   ],
   "source": [
    "# Import the data and create variations of Google\n",
    "df = yf.download('GOOG')[['Adj Close']].pct_change(1).dropna()\n",
    "df"
   ]
  },
  {
   "cell_type": "markdown",
   "id": "91e0c06f-68e1-4047-8ad2-ac44912eaf4b",
   "metadata": {},
   "source": [
    "### Probability"
   ]
  },
  {
   "cell_type": "code",
   "execution_count": 63,
   "id": "5926823e-ef5b-423b-8056-d5afffe443fa",
   "metadata": {},
   "outputs": [
    {
     "name": "stdout",
     "output_type": "stream",
     "text": [
      "Weight | \t Increase: 252.66 \t Decrease: 47.32\n"
     ]
    }
   ],
   "source": [
    "# Compute the chance of a increase\n",
    "p_increase = len(df[df['Adj Close'] > 0]) / len (df) *100\n",
    "\n",
    "# Compute the chance of a decrease\n",
    "p_decrease = len(df[df['Adj Close'] < 0]) / len(df) *100\n",
    "\n",
    "# Increase + Decrease close to one but not mandatory equal 1\n",
    "print (f'Weight | \\t Increase: {\"2%.2f\" % p_increase} \\t Decrease: {\"%.2f\" % p_decrease}')"
   ]
  },
  {
   "cell_type": "code",
   "execution_count": 64,
   "id": "ddf63980-8e5c-4da1-b403-6bef3d5e3125",
   "metadata": {},
   "outputs": [],
   "source": [
    "from ta.volatility import BollingerBands"
   ]
  },
  {
   "cell_type": "code",
   "execution_count": 65,
   "id": "9d59c9e1-cb1c-49fa-bee7-3439f03e219f",
   "metadata": {},
   "outputs": [
    {
     "name": "stdout",
     "output_type": "stream",
     "text": [
      "[*********************100%***********************]  1 of 1 completed\n"
     ]
    }
   ],
   "source": [
    "# Import close price\n",
    "df = yf.download('EURUSD=X')[['Adj Close']]\n",
    "\n",
    "# Create the return\n",
    "df['return'] = df['Adj Close'].pct_change(1).dropna()"
   ]
  },
  {
   "cell_type": "code",
   "execution_count": 68,
   "id": "6e8f31b8-4d39-49d6-be5e-665333417025",
   "metadata": {},
   "outputs": [],
   "source": [
    "# Initialize BB class \n",
    "indicator_bb = BollingerBands(close=df['Adj Close'], window=20, window_dev=1.5)\n",
    "\n",
    "# Add Bollinger Band features\n",
    "df['bb_bbl'] = indicator_bb.bollinger_lband()\n",
    "df['bb_bbh'] = indicator_bb.bollinger_hband()"
   ]
  },
  {
   "cell_type": "code",
   "execution_count": 70,
   "id": "899b3eee-e5c5-4355-a35c-6afdcaf06acc",
   "metadata": {},
   "outputs": [
    {
     "data": {
      "text/plain": [
       "<AxesSubplot:xlabel='Date'>"
      ]
     },
     "execution_count": 70,
     "metadata": {},
     "output_type": "execute_result"
    },
    {
     "data": {
      "image/png": "[encoded data removed]",
      "text/plain": [
       "<Figure size 1080x576 with 1 Axes>"
      ]
     },
     "metadata": {},
     "output_type": "display_data"
    }
   ],
   "source": [
    "df[['Adj Close', 'bb_bbl',\t'bb_bbh']].loc['2010'].plot(figsize=(15,8))"
   ]
  },
  {
   "cell_type": "code",
   "execution_count": 73,
   "id": "babef6a0-1b56-44c9-85f0-b73df1a6e6a3",
   "metadata": {},
   "outputs": [
    {
     "name": "stdout",
     "output_type": "stream",
     "text": [
      "[*********************100%***********************]  1 of 1 completed\n"
     ]
    }
   ],
   "source": [
    "# Import close price\n",
    "df = yf.download('ETH-USD')[['Adj Close']]\n",
    "\n",
    "# Create the return\n",
    "df['return'] = df['Adj Close'].pct_change(1).dropna()\n",
    "\n",
    "# Initialize BB class\n",
    "indicator_bb = BollingerBands(df['Adj Close'], window=20, window_dev=1.5)\n",
    "\n",
    "# Add Bollinger Bands feature\n",
    "df['bb_bbm'] = indicator_bb.bollinger_mavg()\n",
    "df['bb_bbh'] = indicator_bb.bollinger_hband()\n",
    "df['bb_bbl'] = indicator_bb.bollinger_lband()\n",
    "\n",
    "# Shift the values\n",
    "df['Adj Close Yesterday'] = df['Adj Close'].shift(1)\n",
    "df['bbh Yesterday'] = df['bb_bbh'].shift(1)\n",
    "\n",
    "# Drop the raw containing missing values\n",
    "df = df.dropna()\n",
    "\n",
    "# Variable initialization\n",
    "n = 10 # numero de dias (vamos a computar la variacion de la señal del día 1, 2, 3, ..., n)\n",
    "dates = [] # cda vez que aparece una señal que se agende en la date_list\n",
    "returns = []# keep the \n",
    "\n",
    "#\n",
    "for i in range(len(df) - n - 1):\n",
    "    row = df.iloc[i:i+1, :]\n",
    "    # Create signal condition\n",
    "    if (row['Adj Close Yesterday'].values[0] < row['bbh Yesterday'].values[0]) and\\\n",
    "    (row['Adj Close'].values[0] > row['bb_bbh'].values[0]):\n",
    "        \n",
    "        # Save data\n",
    "        dates.append(row.index[0])\n",
    "        \n",
    "        # Compute the return from signal to 10days later\n",
    "        ret = []\n",
    "        \n",
    "        for day in range(1,n):\n",
    "            ret.append(df.iloc[i+day: i+1+day, :]['return'].values[0])\n",
    "        returns.append(ret)\n",
    "\n",
    "# List of lists to dataframe\n",
    "df_returns = pd.DataFrame(returns).cumsum(axis=1)"
   ]
  },
  {
   "cell_type": "code",
   "execution_count": 74,
   "id": "fcc90722-b69e-4657-aa4c-ef6bfd9df907",
   "metadata": {
    "tags": []
   },
   "outputs": [
    {
     "data": {
      "text/html": [
       "<div>\n",
       "<style scoped>\n",
       "    .dataframe tbody tr th:only-of-type {\n",
       "        vertical-align: middle;\n",
       "    }\n",
       "\n",
       "    .dataframe tbody tr th {\n",
       "        vertical-align: top;\n",
       "    }\n",
       "\n",
       "    .dataframe thead th {\n",
       "        text-align: right;\n",
       "    }\n",
       "</style>\n",
       "<table border=\"1\" class=\"dataframe\">\n",
       "  <thead>\n",
       "    <tr style=\"text-align: right;\">\n",
       "      <th></th>\n",
       "      <th>0</th>\n",
       "      <th>1</th>\n",
       "      <th>2</th>\n",
       "      <th>3</th>\n",
       "      <th>4</th>\n",
       "      <th>5</th>\n",
       "      <th>6</th>\n",
       "      <th>7</th>\n",
       "      <th>8</th>\n",
       "    </tr>\n",
       "  </thead>\n",
       "  <tbody>\n",
       "    <tr>\n",
       "      <th>0</th>\n",
       "      <td>0.264581</td>\n",
       "      <td>0.343386</td>\n",
       "      <td>0.333495</td>\n",
       "      <td>0.317157</td>\n",
       "      <td>0.334340</td>\n",
       "      <td>0.368477</td>\n",
       "      <td>0.472189</td>\n",
       "      <td>0.512682</td>\n",
       "      <td>0.503325</td>\n",
       "    </tr>\n",
       "    <tr>\n",
       "      <th>1</th>\n",
       "      <td>0.088503</td>\n",
       "      <td>0.107410</td>\n",
       "      <td>0.124535</td>\n",
       "      <td>0.168595</td>\n",
       "      <td>0.275624</td>\n",
       "      <td>0.271600</td>\n",
       "      <td>0.403256</td>\n",
       "      <td>0.369464</td>\n",
       "      <td>0.289126</td>\n",
       "    </tr>\n",
       "    <tr>\n",
       "      <th>2</th>\n",
       "      <td>0.096780</td>\n",
       "      <td>0.075547</td>\n",
       "      <td>0.020783</td>\n",
       "      <td>-0.163617</td>\n",
       "      <td>-0.201048</td>\n",
       "      <td>-0.179327</td>\n",
       "      <td>-0.176606</td>\n",
       "      <td>-0.064923</td>\n",
       "      <td>-0.156313</td>\n",
       "    </tr>\n",
       "    <tr>\n",
       "      <th>3</th>\n",
       "      <td>0.017744</td>\n",
       "      <td>0.078014</td>\n",
       "      <td>0.039355</td>\n",
       "      <td>0.023209</td>\n",
       "      <td>0.066747</td>\n",
       "      <td>0.148875</td>\n",
       "      <td>0.233098</td>\n",
       "      <td>0.216332</td>\n",
       "      <td>0.243529</td>\n",
       "    </tr>\n",
       "    <tr>\n",
       "      <th>4</th>\n",
       "      <td>0.082128</td>\n",
       "      <td>0.166351</td>\n",
       "      <td>0.149585</td>\n",
       "      <td>0.176782</td>\n",
       "      <td>0.210050</td>\n",
       "      <td>0.312159</td>\n",
       "      <td>0.181197</td>\n",
       "      <td>0.258206</td>\n",
       "      <td>0.234403</td>\n",
       "    </tr>\n",
       "    <tr>\n",
       "      <th>...</th>\n",
       "      <td>...</td>\n",
       "      <td>...</td>\n",
       "      <td>...</td>\n",
       "      <td>...</td>\n",
       "      <td>...</td>\n",
       "      <td>...</td>\n",
       "      <td>...</td>\n",
       "      <td>...</td>\n",
       "      <td>...</td>\n",
       "    </tr>\n",
       "    <tr>\n",
       "      <th>68</th>\n",
       "      <td>0.004885</td>\n",
       "      <td>-0.010281</td>\n",
       "      <td>-0.021539</td>\n",
       "      <td>-0.013662</td>\n",
       "      <td>0.008227</td>\n",
       "      <td>0.049680</td>\n",
       "      <td>0.033675</td>\n",
       "      <td>0.012789</td>\n",
       "      <td>0.033110</td>\n",
       "    </tr>\n",
       "    <tr>\n",
       "      <th>69</th>\n",
       "      <td>0.041452</td>\n",
       "      <td>0.025447</td>\n",
       "      <td>0.004562</td>\n",
       "      <td>0.024882</td>\n",
       "      <td>0.011507</td>\n",
       "      <td>0.008153</td>\n",
       "      <td>0.002756</td>\n",
       "      <td>-0.012127</td>\n",
       "      <td>-0.086979</td>\n",
       "    </tr>\n",
       "    <tr>\n",
       "      <th>70</th>\n",
       "      <td>-0.006321</td>\n",
       "      <td>0.031100</td>\n",
       "      <td>-0.018901</td>\n",
       "      <td>-0.067674</td>\n",
       "      <td>-0.071097</td>\n",
       "      <td>-0.082717</td>\n",
       "      <td>-0.065372</td>\n",
       "      <td>0.018624</td>\n",
       "      <td>0.002256</td>\n",
       "    </tr>\n",
       "    <tr>\n",
       "      <th>71</th>\n",
       "      <td>0.000310</td>\n",
       "      <td>-0.028811</td>\n",
       "      <td>-0.015695</td>\n",
       "      <td>0.010239</td>\n",
       "      <td>0.029725</td>\n",
       "      <td>0.055127</td>\n",
       "      <td>0.054680</td>\n",
       "      <td>0.066431</td>\n",
       "      <td>0.113644</td>\n",
       "    </tr>\n",
       "    <tr>\n",
       "      <th>72</th>\n",
       "      <td>0.019487</td>\n",
       "      <td>0.044888</td>\n",
       "      <td>0.044441</td>\n",
       "      <td>0.056192</td>\n",
       "      <td>0.103405</td>\n",
       "      <td>0.117094</td>\n",
       "      <td>0.136680</td>\n",
       "      <td>0.131733</td>\n",
       "      <td>0.101154</td>\n",
       "    </tr>\n",
       "  </tbody>\n",
       "</table>\n",
       "<p>73 rows × 9 columns</p>\n",
       "</div>"
      ],
      "text/plain": [
       "           0         1         2         3         4         5         6  \\\n",
       "0   0.264581  0.343386  0.333495  0.317157  0.334340  0.368477  0.472189   \n",
       "1   0.088503  0.107410  0.124535  0.168595  0.275624  0.271600  0.403256   \n",
       "2   0.096780  0.075547  0.020783 -0.163617 -0.201048 -0.179327 -0.176606   \n",
       "3   0.017744  0.078014  0.039355  0.023209  0.066747  0.148875  0.233098   \n",
       "4   0.082128  0.166351  0.149585  0.176782  0.210050  0.312159  0.181197   \n",
       "..       ...       ...       ...       ...       ...       ...       ...   \n",
       "68  0.004885 -0.010281 -0.021539 -0.013662  0.008227  0.049680  0.033675   \n",
       "69  0.041452  0.025447  0.004562  0.024882  0.011507  0.008153  0.002756   \n",
       "70 -0.006321  0.031100 -0.018901 -0.067674 -0.071097 -0.082717 -0.065372   \n",
       "71  0.000310 -0.028811 -0.015695  0.010239  0.029725  0.055127  0.054680   \n",
       "72  0.019487  0.044888  0.044441  0.056192  0.103405  0.117094  0.136680   \n",
       "\n",
       "           7         8  \n",
       "0   0.512682  0.503325  \n",
       "1   0.369464  0.289126  \n",
       "2  -0.064923 -0.156313  \n",
       "3   0.216332  0.243529  \n",
       "4   0.258206  0.234403  \n",
       "..       ...       ...  \n",
       "68  0.012789  0.033110  \n",
       "69 -0.012127 -0.086979  \n",
       "70  0.018624  0.002256  \n",
       "71  0.066431  0.113644  \n",
       "72  0.131733  0.101154  \n",
       "\n",
       "[73 rows x 9 columns]"
      ]
     },
     "execution_count": 74,
     "metadata": {},
     "output_type": "execute_result"
    }
   ],
   "source": [
    "# Signal (1%, 0.5%, ...)  --> (1%, 1,5%, ...) - daily variation after 10 days \n",
    "df_returns;"
   ]
  },
  {
   "cell_type": "code",
   "execution_count": 78,
   "id": "386ab2b1-bbc7-42d4-85fd-6d327d6ae3a2",
   "metadata": {},
   "outputs": [
    {
     "data": {
      "image/png": "[encoded data removed]",
      "text/plain": [
       "<Figure size 1080x432 with 1 Axes>"
      ]
     },
     "metadata": {},
     "output_type": "display_data"
    }
   ],
   "source": [
    "# We plot all the signal to be sure that the be correct\n",
    "\n",
    "# Select all signal in a index list to plot only this points\n",
    "idx = dates\n",
    "year = '2021'\n",
    "\n",
    "# Adapt the size of the graph\n",
    "plt.figure(figsize=(15,6))\n",
    "\n",
    "# Plot the points of the open long signal in green\n",
    "plt.scatter(df.loc[idx].loc[year].index, df.loc[idx]['Adj Close'].loc[year], color='#57CE95', marker='^')\n",
    "\n",
    "# Plot the point of the close long signal in blue\n",
    "\n",
    "# Plot the rsi to be sure that the conditions are completed\n",
    "plt.plot(df['Adj Close'].loc[year].index, df['Adj Close'].loc[year], alpha=0.35)\n",
    "plt.plot(df['bb_bbl'].loc[year].index, df['bb_bbl'].loc[year], alpha=0.35)\n",
    "plt.plot(df['bb_bbh'].loc[year].index, df['bb_bbh'].loc[year], alpha=0.35)\n",
    "\n",
    "# Show the graph\n",
    "plt.show()"
   ]
  },
  {
   "cell_type": "code",
   "execution_count": 80,
   "id": "18ad99f6-9ccd-4c9b-a464-bf85de03cd63",
   "metadata": {},
   "outputs": [
    {
     "name": "stdout",
     "output_type": "stream",
     "text": [
      "Weights day 1| \t Increase: 56.16 %\t Decrease: 43.84 %\n",
      "Weights day 2| \t Increase: 60.27 %\t Decrease: 39.73 %\n",
      "Weights day 3| \t Increase: 67.12 %\t Decrease: 32.88 %\n",
      "Weights day 4| \t Increase: 64.38 %\t Decrease: 35.62 %\n",
      "Weights day 5| \t Increase: 67.12 %\t Decrease: 32.88 %\n",
      "Weights day 6| \t Increase: 67.12 %\t Decrease: 32.88 %\n",
      "Weights day 7| \t Increase: 68.49 %\t Decrease: 31.51 %\n",
      "Weights day 8| \t Increase: 71.23 %\t Decrease: 28.77 %\n",
      "Weights day 9| \t Increase: 69.86 %\t Decrease: 30.14 %\n",
      "\n",
      "Weights| |t Increase: 52.08 % \t Decrease: 47.92 %\n"
     ]
    }
   ],
   "source": [
    "# Compute %Increase %Decrease of return from signal to 10days later\n",
    "for i in range(n-1): #\n",
    "    g = df_returns.iloc[:, i:i+1].values\n",
    "    p_increase = len(g[g>0])/len(g) *100\n",
    "    p_decrease = len(g[g<0])/len(g) *100\n",
    "    \n",
    "    print (f'Weights day {i+1}| \\t Increase: {\"%.2f\" % p_increase} %\\t Decrease: {\"%.2f\" % p_decrease} %')\n",
    "print('')\n",
    "\n",
    "# Compute %Increase %Decrease of the asset on all the situations\n",
    "p_increase = len(df[df['return'] > 0]) / len(df) *100\n",
    "p_decrease = len(df[df['return'] < 0]) / len(df) *100\n",
    "print(f'Weights| \\t Increase: {\"%.2f\" %p_increase} % \\t Decrease: {\"%.2f\" % p_decrease} %')\n",
    "\n"
   ]
  },
  {
   "cell_type": "code",
   "execution_count": 83,
   "id": "ec3446e3-8a8a-435e-943f-6aa309a64486",
   "metadata": {},
   "outputs": [
    {
     "name": "stdout",
     "output_type": "stream",
     "text": [
      "Weights day 1| \t Increase: 43.84 %\t Decrease: 56.16 %\n",
      "Weights day 2| \t Increase: 57.53 %\t Decrease: 42.47 %\n",
      "Weights day 3| \t Increase: 57.53 %\t Decrease: 42.47 %\n",
      "Weights day 4| \t Increase: 57.53 %\t Decrease: 42.47 %\n",
      "Weights day 5| \t Increase: 60.27 %\t Decrease: 39.73 %\n",
      "Weights day 6| \t Increase: 60.27 %\t Decrease: 39.73 %\n",
      "Weights day 7| \t Increase: 64.38 %\t Decrease: 35.62 %\n",
      "Weights day 8| \t Increase: 69.86 %\t Decrease: 30.14 %\n",
      "Weights day 9| \t Increase: 67.12 %\t Decrease: 32.88 %\n",
      "\n",
      "Weights| \t Increase: 52.08 % \t Decrease: 47.92 %\n"
     ]
    }
   ],
   "source": [
    "# Compute %Increase %Decrease of return from signal to 10days later\n",
    "for i in range(n-1): #\n",
    "    g = df_returns.iloc[:, i:i+1].values - 0.01 # cost of transaction in percent\n",
    "    p_increase = len(g[g>0])/len(g) *100\n",
    "    p_decrease = len(g[g<0])/len(g) *100\n",
    "    \n",
    "    print (f'Weights day {i+1}| \\t Increase: {\"%.2f\" % p_increase} %\\t Decrease: {\"%.2f\" % p_decrease} %')\n",
    "print('')\n",
    "\n",
    "# Compute %Increase %Decrease of the asset on all the situations\n",
    "p_increase = len(df[df['return'] > 0]) / len(df) *100\n",
    "p_decrease = len(df[df['return'] < 0]) / len(df) *100\n",
    "print(f'Weights| \\t Increase: {\"%.2f\" %p_increase} % \\t Decrease: {\"%.2f\" % p_decrease} %')"
   ]
  },
  {
   "cell_type": "code",
   "execution_count": 85,
   "id": "197a1068-8dc7-4863-a1e1-7652fffe0072",
   "metadata": {},
   "outputs": [
    {
     "name": "stdout",
     "output_type": "stream",
     "text": [
      "Weights day 8| \t Increase: 54.75 % \t Decrease: 45.25 %\n"
     ]
    }
   ],
   "source": [
    "m = 8\n",
    "\n",
    "dft = df['Adj Close'].pct_change(m).dropna()\n",
    "\n",
    "# Compute %Increase %Decrease of the asset on all the situations\n",
    "p_increase = len(dft[dft>0]) / len(dft) *100\n",
    "p_decrease = len(dft[dft<0]) / len(dft) *100\n",
    "print(f'Weights day {m}| \\t Increase: {\"%.2f\" %p_increase} % \\t Decrease: {\"%.2f\" % p_decrease} %')"
   ]
  },
  {
   "cell_type": "markdown",
   "id": "5bccac7b-99ab-4783-a590-e06885c6b490",
   "metadata": {},
   "source": [
    "### Hypothesis test (this part comes with chapter \"hypothesis test\". dont read it before)"
   ]
  },
  {
   "cell_type": "code",
   "execution_count": 88,
   "id": "3e5184e9-9b89-4a6a-b940-76ba9a03e3c9",
   "metadata": {},
   "outputs": [
    {
     "name": "stdout",
     "output_type": "stream",
     "text": [
      "esta es la diferencia entre los porcentajes de probabilidad, a partir de 10% de probabilidad de subir que de bajar es bueno, o sea 45 55\n"
     ]
    }
   ],
   "source": [
    "df_returns.iloc[:, -1].values\n",
    "\n",
    "np.mean(df_returns.iloc[:, -1].values)\n",
    "\n",
    "print ('esta es la diferencia entre los porcentajes de probabilidad, a partir de 10% de probabilidad de subir que de bajar es bueno, o sea 45 55')"
   ]
  },
  {
   "cell_type": "markdown",
   "id": "d8c40a76-1fe7-4aac-a2f3-6fda52fd92eb",
   "metadata": {},
   "source": [
    "# SABADO 2 DE ABRIL DE 2022\n",
    "## CAPITULO 5\n",
    "\n",
    "### video 43: Introduccion\n",
    "\n",
    "### video 49: Introduccion\n",
    "\n",
    "EJERCICIO: Compute the value at risk of a financial asset\n",
    "\n",
    "EJERCICIO: Analyze the stop loss and take profit"
   ]
  },
  {
   "attachments": {
    "0cfd4196-ba79-453f-8482-272e9f83319e.png": {
     "image/png": "[encoded data removed]"
    },
    "9842e90e-235e-4d57-9126-3636f28f86e6.png": {
     "image/png": "[encoded data removed]"
    },
    "fe16de88-7903-4ec3-85f6-286150b84dd9.png": {
     "image/png": "[encoded data removed]"
    }
   },
   "cell_type": "markdown",
   "id": "675ff970-aa03-4394-b183-1de4334f7ea7",
   "metadata": {},
   "source": [
    "# video 50: law of probability\n",
    "\n",
    "ya vimos una variable aleatoria, y que pertenece a omega el fominio, y specifict behavoure\n",
    "\n",
    "el comportamiento se define como law of probability\n",
    "\n",
    "Discrete: finite posibilidades\n",
    "una binomiial  n=30 and p=0.5\n",
    "histograma forma de campana que lelga a 0.14\n",
    "\n",
    "Continuous: infinitas posibilidades\n",
    "el dominio omega tiene infinitas posibilidades entre 0 y 10, \n",
    "\n",
    "## Bernoulli law\n",
    "2 posibilidades Success or fail\n",
    "X~B(1,p)\n",
    "\n",
    "P(X=x) = {1: p if x = success,\n",
    "            2: 1-p if x = fail,\n",
    "            3: 0 otherwise\n",
    "            }\n",
    "            \n",
    "## Binomial law\n",
    "Representa several Bernoulli simulations\n",
    "Asumimos:\n",
    "\n",
    "    - Random experience\n",
    "    - Independient experience (¿probabilidad condicional?)\n",
    "\n",
    "X ~ B(n,p) <=> P(X=x) = (C**x)__n * p**x * (1-p)**(n-x)\n",
    "![image.png](attachment:fe16de88-7903-4ec3-85f6-286150b84dd9.png)\n",
    "\n",
    "-\n",
    "\n",
    "## Poisson law\n",
    "\n",
    "En finanzas, se usa por simular chocs (stocastics, like new information) on the market\n",
    "\n",
    "X ~ Pois(lambda) <=> P(X=x) = e**(-lambda) * lambda**x / x!\n",
    "\n",
    "## Continous uniforme law\n",
    "\n",
    "La distribucion es uniformemente disrtibuida\n",
    "\n",
    "X ~ U(a,b) P(X < x) = (x - a) / (b - a) when x bellow in [a, b]\n",
    "\n",
    "pdf: partial distribution function (la reparticion de la realizacion de una variable aleatoria)\n",
    "\n",
    "cdf: cumulative distribution function (para computar some probability)\n",
    "\n",
    "## Exponential law\n",
    "X ~ Exp(Beta)\n",
    "![image.png](attachment:0cfd4196-ba79-453f-8482-272e9f83319e.png)\n",
    "\n",
    "pdf. tiene a lot of value at the biginins, la probabilidad de tener un valor especifico al comienzo es tanto.\n",
    "tiene a lot of chances to have to be realized at the beginin\n",
    "\n",
    "## Normal law\n",
    "\n",
    "X ~ U(mu, sigma)\n",
    "\n",
    "![image.png](attachment:9842e90e-235e-4d57-9126-3636f28f86e6.png)\n",
    "\n",
    "\n"
   ]
  },
  {
   "cell_type": "code",
   "execution_count": 90,
   "id": "aed8bdae-117f-4adc-8f9b-9b852f200f0a",
   "metadata": {},
   "outputs": [
    {
     "ename": "NameError",
     "evalue": "name 'binom' is not defined",
     "output_type": "error",
     "traceback": [
      "\u001b[1;31m---------------------------------------------------------------------------\u001b[0m",
      "\u001b[1;31mNameError\u001b[0m                                 Traceback (most recent call last)",
      "\u001b[1;32m<ipython-input-90-d961a3c943b1>\u001b[0m in \u001b[0;36m<module>\u001b[1;34m\u001b[0m\n\u001b[0;32m     11\u001b[0m \u001b[1;33m\u001b[0m\u001b[0m\n\u001b[0;32m     12\u001b[0m \u001b[1;31m# list pf pmf values\u001b[0m\u001b[1;33m\u001b[0m\u001b[1;33m\u001b[0m\u001b[1;33m\u001b[0m\u001b[0m\n\u001b[1;32m---> 13\u001b[1;33m \u001b[0mproba\u001b[0m \u001b[1;33m=\u001b[0m \u001b[1;33m[\u001b[0m\u001b[0mbinom\u001b[0m\u001b[1;33m.\u001b[0m\u001b[0mpmf\u001b[0m\u001b[1;33m(\u001b[0m\u001b[0mb\u001b[0m\u001b[1;33m,\u001b[0m \u001b[0mn\u001b[0m\u001b[1;33m,\u001b[0m \u001b[0mp\u001b[0m\u001b[1;33m)\u001b[0m \u001b[1;32mfor\u001b[0m \u001b[0mb\u001b[0m \u001b[1;32min\u001b[0m \u001b[0mnb_success\u001b[0m\u001b[1;33m]\u001b[0m\u001b[1;33m\u001b[0m\u001b[1;33m\u001b[0m\u001b[0m\n\u001b[0m\u001b[0;32m     14\u001b[0m \u001b[1;33m\u001b[0m\u001b[0m\n\u001b[0;32m     15\u001b[0m \u001b[1;31m# --------------- Plot the density ---------------\u001b[0m\u001b[1;33m\u001b[0m\u001b[1;33m\u001b[0m\u001b[1;33m\u001b[0m\u001b[0m\n",
      "\u001b[1;32m<ipython-input-90-d961a3c943b1>\u001b[0m in \u001b[0;36m<listcomp>\u001b[1;34m(.0)\u001b[0m\n\u001b[0;32m     11\u001b[0m \u001b[1;33m\u001b[0m\u001b[0m\n\u001b[0;32m     12\u001b[0m \u001b[1;31m# list pf pmf values\u001b[0m\u001b[1;33m\u001b[0m\u001b[1;33m\u001b[0m\u001b[1;33m\u001b[0m\u001b[0m\n\u001b[1;32m---> 13\u001b[1;33m \u001b[0mproba\u001b[0m \u001b[1;33m=\u001b[0m \u001b[1;33m[\u001b[0m\u001b[0mbinom\u001b[0m\u001b[1;33m.\u001b[0m\u001b[0mpmf\u001b[0m\u001b[1;33m(\u001b[0m\u001b[0mb\u001b[0m\u001b[1;33m,\u001b[0m \u001b[0mn\u001b[0m\u001b[1;33m,\u001b[0m \u001b[0mp\u001b[0m\u001b[1;33m)\u001b[0m \u001b[1;32mfor\u001b[0m \u001b[0mb\u001b[0m \u001b[1;32min\u001b[0m \u001b[0mnb_success\u001b[0m\u001b[1;33m]\u001b[0m\u001b[1;33m\u001b[0m\u001b[1;33m\u001b[0m\u001b[0m\n\u001b[0m\u001b[0;32m     14\u001b[0m \u001b[1;33m\u001b[0m\u001b[0m\n\u001b[0;32m     15\u001b[0m \u001b[1;31m# --------------- Plot the density ---------------\u001b[0m\u001b[1;33m\u001b[0m\u001b[1;33m\u001b[0m\u001b[1;33m\u001b[0m\u001b[0m\n",
      "\u001b[1;31mNameError\u001b[0m: name 'binom' is not defined"
     ]
    }
   ],
   "source": [
    "# --------------- Initialiaze distribution setting --------------\n",
    "# Number of iterations\n",
    "n = 10\n",
    "\n",
    "# Probability of success\n",
    "p = 0.6\n",
    "\n",
    "# --------------- Compute the probability ---------------\n",
    "# list of possible number of success\n",
    "nb_success = list(range(n + 1))\n",
    "\n",
    "# list pf pmf values\n",
    "proba = [binom.pmf(b, n, p) for b in nb_success]\n",
    "\n",
    "# --------------- Plot the density ---------------\n",
    "# Adapt the size\n",
    "plt.figure(figsize=(15, 8))\n",
    "\n",
    "# Plot the distribution\n",
    "plt.bar(nb_success, proba, color='#1586BA')\n",
    "\n",
    "# Give x/y labels and a title\n",
    "plt.title(f'Binomial distribution N={n} and p={p}', size=16)\n",
    "plt.xlabel('Number of success', size=13)\n",
    "plt.ylabel('Probability', size=13)\n",
    "\n",
    "plt.show()\n",
    "# ---------------   ---------------\n",
    "# ---------------   ---------------"
   ]
  },
  {
   "cell_type": "raw",
   "id": "24809e69-687a-42aa-b4b0-d3430b563480",
   "metadata": {},
   "source": [
    "Compute the value at risk of a financial asset\n",
    "analyze the stop loss and take profit"
   ]
  },
  {
   "cell_type": "code",
   "execution_count": 89,
   "id": "a6c96328-8748-438f-984e-3517a8e4bf46",
   "metadata": {},
   "outputs": [
    {
     "name": "stdout",
     "output_type": "stream",
     "text": [
      "[*********************100%***********************]  1 of 1 completed\n"
     ]
    }
   ],
   "source": [
    "# Video 59: Compute a Value at risk\n",
    "\n",
    "df = yf.download('GOOG').pct_change(1).dropna()\n"
   ]
  },
  {
   "cell_type": "code",
   "execution_count": 91,
   "id": "2555e583-9c76-436e-97b4-16c874b58f2f",
   "metadata": {},
   "outputs": [
    {
     "data": {
      "text/plain": [
       "<AxesSubplot:ylabel='Density'>"
      ]
     },
     "execution_count": 91,
     "metadata": {},
     "output_type": "execute_result"
    },
    {
     "data": {
      "image/png": "[encoded data removed]",
      "text/plain": [
       "<Figure size 432x288 with 1 Axes>"
      ]
     },
     "metadata": {},
     "output_type": "display_data"
    }
   ],
   "source": [
    "\n",
    "df['Close'].plot(kind='kde')"
   ]
  },
  {
   "cell_type": "code",
   "execution_count": 92,
   "id": "ec5a7e65-b8fe-417b-8d44-9a9441df7463",
   "metadata": {},
   "outputs": [
    {
     "name": "stdout",
     "output_type": "stream",
     "text": [
      "Value at risk: -9.65 %\n"
     ]
    }
   ],
   "source": [
    "VaR = np.percentile(df['Close'], 0.05)*100\n",
    "print (f'Value at risk: {\"%.2f\" %VaR} %')"
   ]
  },
  {
   "cell_type": "raw",
   "id": "112d9333-a904-467e-901c-4c4a0d39491f",
   "metadata": {},
   "source": [
    " significa, 5% de los valores debajo de 10%"
   ]
  },
  {
   "cell_type": "code",
   "execution_count": null,
   "id": "2186d79a-66b7-40eb-b337-7341c49bd422",
   "metadata": {},
   "outputs": [],
   "source": []
  }
 ],
 "metadata": {
  "kernelspec": {
   "display_name": "Python 3",
   "language": "python",
   "name": "python3"
  },
  "language_info": {
   "codemirror_mode": {
    "name": "ipython",
    "version": 3
   },
   "file_extension": ".py",
   "mimetype": "text/x-python",
   "name": "python",
   "nbconvert_exporter": "python",
   "pygments_lexer": "ipython3",
   "version": "3.8.8"
  }
 },
 "nbformat": 4,
 "nbformat_minor": 5
}
