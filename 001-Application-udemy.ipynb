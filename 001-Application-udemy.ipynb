{
 "cells": [
  {
   "cell_type": "markdown",
   "id": "f099d2b1",
   "metadata": {},
   "source": []
  },
  {
   "cell_type": "code",
   "execution_count": null,
   "id": "a8c5a422",
   "metadata": {},
   "outputs": [],
   "source": []
  },
  {
   "cell_type": "code",
   "execution_count": null,
   "id": "65abed72",
   "metadata": {},
   "outputs": [],
   "source": []
  },
  {
   "cell_type": "code",
   "execution_count": 1,
   "id": "3f9e90eb",
   "metadata": {
    "collapsed": true,
    "jupyter": {
     "outputs_hidden": true
    },
    "tags": []
   },
   "outputs": [
    {
     "name": "stdout",
     "output_type": "stream",
     "text": [
      "Collecting juanpy\n",
      "  Downloading juanpy-1.0.0-py3-none-any.whl (3.9 kB)\n",
      "Requirement already satisfied: matplotlib in c:\\users\\agust\\anaconda3\\lib\\site-packages (from juanpy) (3.4.3)\n",
      "Requirement already satisfied: pandas in c:\\users\\agust\\anaconda3\\lib\\site-packages (from juanpy) (1.3.4)\n",
      "Collecting yfinance\n",
      "  Downloading yfinance-0.1.70-py2.py3-none-any.whl (26 kB)\n",
      "Collecting datetime\n",
      "  Downloading DateTime-4.4-py2.py3-none-any.whl (51 kB)\n",
      "Requirement already satisfied: pytz in c:\\users\\agust\\anaconda3\\lib\\site-packages (from datetime->juanpy) (2021.3)\n",
      "Requirement already satisfied: zope.interface in c:\\users\\agust\\anaconda3\\lib\\site-packages (from datetime->juanpy) (5.4.0)\n",
      "Requirement already satisfied: pillow>=6.2.0 in c:\\users\\agust\\anaconda3\\lib\\site-packages (from matplotlib->juanpy) (8.4.0)\n",
      "Requirement already satisfied: pyparsing>=2.2.1 in c:\\users\\agust\\anaconda3\\lib\\site-packages (from matplotlib->juanpy) (3.0.4)\n",
      "Requirement already satisfied: cycler>=0.10 in c:\\users\\agust\\anaconda3\\lib\\site-packages (from matplotlib->juanpy) (0.10.0)\n",
      "Requirement already satisfied: python-dateutil>=2.7 in c:\\users\\agust\\anaconda3\\lib\\site-packages (from matplotlib->juanpy) (2.8.2)\n",
      "Requirement already satisfied: kiwisolver>=1.0.1 in c:\\users\\agust\\anaconda3\\lib\\site-packages (from matplotlib->juanpy) (1.3.1)\n",
      "Requirement already satisfied: numpy>=1.16 in c:\\users\\agust\\anaconda3\\lib\\site-packages (from matplotlib->juanpy) (1.20.3)\n",
      "Requirement already satisfied: six in c:\\users\\agust\\anaconda3\\lib\\site-packages (from cycler>=0.10->matplotlib->juanpy) (1.16.0)\n",
      "Collecting multitasking>=0.0.7\n",
      "  Downloading multitasking-0.0.10.tar.gz (8.2 kB)\n",
      "Requirement already satisfied: requests>=2.26 in c:\\users\\agust\\anaconda3\\lib\\site-packages (from yfinance->juanpy) (2.26.0)\n",
      "Requirement already satisfied: lxml>=4.5.1 in c:\\users\\agust\\anaconda3\\lib\\site-packages (from yfinance->juanpy) (4.6.3)\n",
      "Requirement already satisfied: idna<4,>=2.5 in c:\\users\\agust\\anaconda3\\lib\\site-packages (from requests>=2.26->yfinance->juanpy) (3.2)\n",
      "Requirement already satisfied: certifi>=2017.4.17 in c:\\users\\agust\\anaconda3\\lib\\site-packages (from requests>=2.26->yfinance->juanpy) (2021.10.8)\n",
      "Requirement already satisfied: urllib3<1.27,>=1.21.1 in c:\\users\\agust\\anaconda3\\lib\\site-packages (from requests>=2.26->yfinance->juanpy) (1.26.7)\n",
      "Requirement already satisfied: charset-normalizer~=2.0.0 in c:\\users\\agust\\anaconda3\\lib\\site-packages (from requests>=2.26->yfinance->juanpy) (2.0.4)\n",
      "Requirement already satisfied: setuptools in c:\\users\\agust\\anaconda3\\lib\\site-packages (from zope.interface->datetime->juanpy) (58.0.4)\n",
      "Building wheels for collected packages: multitasking\n",
      "  Building wheel for multitasking (setup.py): started\n",
      "  Building wheel for multitasking (setup.py): finished with status 'done'\n",
      "  Created wheel for multitasking: filename=multitasking-0.0.10-py3-none-any.whl size=8500 sha256=d773aab6476b9f429654cb92fef8ad9eb400b709a9e4186e2d7b22ca54f5dacd\n",
      "  Stored in directory: c:\\users\\agust\\appdata\\local\\pip\\cache\\wheels\\f2\\b5\\2c\\59ba95dcf854e542944c75fe3da584e4e3833b319735a0546c\n",
      "Successfully built multitasking\n",
      "Installing collected packages: multitasking, yfinance, datetime, juanpy\n",
      "Successfully installed datetime-4.4 juanpy-1.0.0 multitasking-0.0.10 yfinance-0.1.70\n",
      "Note: you may need to restart the kernel to use updated packages.\n"
     ]
    }
   ],
   "source": [
    "#pip install juanpy"
   ]
  },
  {
   "cell_type": "raw",
   "id": "de96d72a",
   "metadata": {},
   "source": [
    "Collecting juanpy\n",
    "  Downloading juanpy-1.0.0-py3-none-any.whl (3.9 kB)\n",
    "Requirement already satisfied: matplotlib in c:\\users\\agust\\anaconda3\\lib\\site-packages (from juanpy) (3.4.3)\n",
    "Requirement already satisfied: pandas in c:\\users\\agust\\anaconda3\\lib\\site-packages (from juanpy) (1.3.4)\n",
    "Collecting yfinance\n",
    "  Downloading yfinance-0.1.70-py2.py3-none-any.whl (26 kB)\n",
    "Collecting datetime\n",
    "  Downloading DateTime-4.4-py2.py3-none-any.whl (51 kB)\n",
    "Requirement already satisfied: pytz in c:\\users\\agust\\anaconda3\\lib\\site-packages (from datetime->juanpy) (2021.3)\n",
    "Requirement already satisfied: zope.interface in c:\\users\\agust\\anaconda3\\lib\\site-packages (from datetime->juanpy) (5.4.0)\n",
    "Requirement already satisfied: pillow>=6.2.0 in c:\\users\\agust\\anaconda3\\lib\\site-packages (from matplotlib->juanpy) (8.4.0)\n",
    "Requirement already satisfied: pyparsing>=2.2.1 in c:\\users\\agust\\anaconda3\\lib\\site-packages (from matplotlib->juanpy) (3.0.4)\n",
    "Requirement already satisfied: cycler>=0.10 in c:\\users\\agust\\anaconda3\\lib\\site-packages (from matplotlib->juanpy) (0.10.0)\n",
    "Requirement already satisfied: python-dateutil>=2.7 in c:\\users\\agust\\anaconda3\\lib\\site-packages (from matplotlib->juanpy) (2.8.2)\n",
    "Requirement already satisfied: kiwisolver>=1.0.1 in c:\\users\\agust\\anaconda3\\lib\\site-packages (from matplotlib->juanpy) (1.3.1)\n",
    "Requirement already satisfied: numpy>=1.16 in c:\\users\\agust\\anaconda3\\lib\\site-packages (from matplotlib->juanpy) (1.20.3)\n",
    "Requirement already satisfied: six in c:\\users\\agust\\anaconda3\\lib\\site-packages (from cycler>=0.10->matplotlib->juanpy) (1.16.0)\n",
    "Collecting multitasking>=0.0.7\n",
    "  Downloading multitasking-0.0.10.tar.gz (8.2 kB)\n",
    "Requirement already satisfied: requests>=2.26 in c:\\users\\agust\\anaconda3\\lib\\site-packages (from yfinance->juanpy) (2.26.0)\n",
    "Requirement already satisfied: lxml>=4.5.1 in c:\\users\\agust\\anaconda3\\lib\\site-packages (from yfinance->juanpy) (4.6.3)\n",
    "Requirement already satisfied: idna<4,>=2.5 in c:\\users\\agust\\anaconda3\\lib\\site-packages (from requests>=2.26->yfinance->juanpy) (3.2)\n",
    "Requirement already satisfied: certifi>=2017.4.17 in c:\\users\\agust\\anaconda3\\lib\\site-packages (from requests>=2.26->yfinance->juanpy) (2021.10.8)\n",
    "Requirement already satisfied: urllib3<1.27,>=1.21.1 in c:\\users\\agust\\anaconda3\\lib\\site-packages (from requests>=2.26->yfinance->juanpy) (1.26.7)\n",
    "Requirement already satisfied: charset-normalizer~=2.0.0 in c:\\users\\agust\\anaconda3\\lib\\site-packages (from requests>=2.26->yfinance->juanpy) (2.0.4)\n",
    "Requirement already satisfied: setuptools in c:\\users\\agust\\anaconda3\\lib\\site-packages (from zope.interface->datetime->juanpy) (58.0.4)\n",
    "Building wheels for collected packages: multitasking\n",
    "  Building wheel for multitasking (setup.py): started\n",
    "  Building wheel for multitasking (setup.py): finished with status 'done'\n",
    "  Created wheel for multitasking: filename=multitasking-0.0.10-py3-none-any.whl size=8500 sha256=d773aab6476b9f429654cb92fef8ad9eb400b709a9e4186e2d7b22ca54f5dacd\n",
    "  Stored in directory: c:\\users\\agust\\appdata\\local\\pip\\cache\\wheels\\f2\\b5\\2c\\59ba95dcf854e542944c75fe3da584e4e3833b319735a0546c\n",
    "Successfully built multitasking\n",
    "Installing collected packages: multitasking, yfinance, datetime, juanpy\n",
    "Successfully installed datetime-4.4 juanpy-1.0.0 multitasking-0.0.10 yfinance-0.1.70\n",
    "Note: you may need to restart the kernel to use updated packages."
   ]
  },
  {
   "cell_type": "code",
   "execution_count": 1,
   "id": "f873cb39",
   "metadata": {},
   "outputs": [],
   "source": [
    "import numpy as np\n",
    "import pandas as pd\n",
    "import yfinance as yf\n",
    "from scipy.stats import skew, kurtosis"
   ]
  },
  {
   "cell_type": "markdown",
   "id": "05e50292",
   "metadata": {},
   "source": [
    "### \n",
    "\n",
    "import some data"
   ]
  },
  {
   "cell_type": "code",
   "execution_count": 3,
   "id": "d82e44ee",
   "metadata": {},
   "outputs": [
    {
     "name": "stdout",
     "output_type": "stream",
     "text": [
      "[*********************100%***********************]  1 of 1 completed\n"
     ]
    }
   ],
   "source": [
    "##FUNCION DOWNLOAD\n",
    "df = yf.download('GOOG')['Adj Close'].pct_change(1).dropna() \n",
    "\n",
    "# create variation, you want to compute de comparision on variation, you need to standarice the variability\n",
    "# obtener toda la moneda data en el same scale, need to take de varation para ver como se computan estas 2 assets( on the same scale)\n",
    "# y limpiamos los datos nulos\n"
   ]
  },
  {
   "cell_type": "code",
   "execution_count": 4,
   "id": "0d227fea",
   "metadata": {},
   "outputs": [
    {
     "data": {
      "text/plain": [
       "Date\n",
       "2004-08-20    0.079430\n",
       "2004-08-23    0.010064\n",
       "2004-08-24   -0.041408\n",
       "2004-08-25    0.010775\n",
       "2004-08-26    0.018019\n",
       "                ...   \n",
       "2022-03-09    0.051757\n",
       "2022-03-10   -0.008845\n",
       "2022-03-11   -0.016630\n",
       "2022-03-14   -0.028622\n",
       "2022-03-15    0.023895\n",
       "Name: Adj Close, Length: 4423, dtype: float64"
      ]
     },
     "execution_count": 4,
     "metadata": {},
     "output_type": "execute_result"
    }
   ],
   "source": [
    "df\n",
    "# mean\n",
    "# es el valor conocido como medida de tendencia central y es parte de losçV basic summary of the data (count)\n",
    "# funtions is (numba)\n",
    "# hint and clue's para el proyecto en cuestion\n"
   ]
  },
  {
   "cell_type": "markdown",
   "id": "b9798e3d",
   "metadata": {},
   "source": [
    "### video 7: aplication\n",
    "\n",
    "### la media\n",
    "\n",
    "how to compute the mean,\n",
    "\n",
    "y como analizarla"
   ]
  },
  {
   "cell_type": "code",
   "execution_count": 7,
   "id": "5626959d",
   "metadata": {},
   "outputs": [
    {
     "name": "stdout",
     "output_type": "stream",
     "text": [
      "Daily Mean: 0.11 % \n",
      "Anual Mean: 27.07 % \n",
      "Montly Mean: 2.26 % \n"
     ]
    }
   ],
   "source": [
    "mean = np.mean(df, axis=0) * 100\n",
    "print(f'Daily Mean: {\"%.2f\" % mean} % ')\n",
    "\n",
    "annual_mean = mean * 252 #days on a year - that market is open\n",
    "print(f'Anual Mean: {\"%.2f\" % annual_mean} % ')\n",
    "\n",
    "#day mean return - monthly mean return\n",
    "monthly_mean = mean * 21 #days on a month - this markets is open\n",
    "print(f'Montly Mean: {\"%.2f\" % monthly_mean} % ')"
   ]
  },
  {
   "cell_type": "markdown",
   "id": "3b6eadc0",
   "metadata": {},
   "source": [
    "workshop 3\n",
    "variacion del precio por superficie, y categorizame a partir de que superficie empieza a ser caro"
   ]
  },
  {
   "cell_type": "markdown",
   "id": "ad405ef1",
   "metadata": {},
   "source": [
    "###  video 8 - la mediana\n",
    "### video 9 - extreme value problem\n",
    "### video 10 - Central tendency messure: the precentile\n",
    "### video 11 - Application"
   ]
  },
  {
   "cell_type": "code",
   "execution_count": 10,
   "id": "c6338754",
   "metadata": {},
   "outputs": [
    {
     "name": "stdout",
     "output_type": "stream",
     "text": [
      "Daily Median: 0.08 %\n"
     ]
    }
   ],
   "source": [
    "### video 9\n",
    "\n",
    "median = np.median(df, axis=0) * 100\n",
    "print (f'Daily Median: {\"%.2f\" % median} %')\n"
   ]
  },
  {
   "cell_type": "code",
   "execution_count": null,
   "id": "ea645b08",
   "metadata": {},
   "outputs": [],
   "source": [
    "### percentile\n",
    "# comprender la distribucion, si ordenamos lso valores ascendentemente\n"
   ]
  },
  {
   "cell_type": "code",
   "execution_count": 13,
   "id": "c3503900",
   "metadata": {},
   "outputs": [
    {
     "name": "stdout",
     "output_type": "stream",
     "text": [
      "Centile 10%: -1.87 %\n",
      "Centile 50%: 0.08 %\n",
      "Centile 99%: 5.72 %\n"
     ]
    }
   ],
   "source": [
    "###  video 11 - Aplication\n",
    "\n",
    "percentile_10 = np.quantile(df, 0.10, axis=0) * 100\n",
    "print (f'Centile 10%: {\"%.2f\" % percentile_10} %')\n",
    "\n",
    "percentile_50 = np.quantile(df, 0.50, axis=0) * 100\n",
    "print (f'Centile 50%: {\"%.2f\" % percentile_50} %')\n",
    "\n",
    "percentile_99 = np.quantile(df, 0.99, axis=0) * 100\n",
    "print (f'Centile 99%: {\"%.2f\" % percentile_99} %')\n",
    "\n",
    "## hacer funciones - do the quiz"
   ]
  },
  {
   "cell_type": "markdown",
   "id": "bfe27c9f",
   "metadata": {},
   "source": [
    "### MODULO 2 - "
   ]
  },
  {
   "cell_type": "markdown",
   "id": "2700bf5c",
   "metadata": {},
   "source": [
    "### Video 12 - la varianza\n",
    "\n",
    "* El indicador es importante, a medida que aumenta la varianza aumenta el riesgo de la estrategia.\n",
    "* La varianza es siempre positiva. (porque es la sumatoria de un binomio con exponente al cuadrado)\n",
    "\n",
    "### Video 13 - Aplication\n",
    "### video 14 la desviacion estandar\n",
    "\n",
    "* Es la raiz cuadrada de la varianza\n",
    "* el rango de un std, es la distancia que eperamos encontrar desde cada lado de la media\n",
    "\n",
    "##video 15"
   ]
  },
  {
   "cell_type": "code",
   "execution_count": 14,
   "id": "6ca1d10c",
   "metadata": {},
   "outputs": [
    {
     "name": "stdout",
     "output_type": "stream",
     "text": [
      "Daily Variance: 0.04 %\n"
     ]
    }
   ],
   "source": [
    "###  video 13\n",
    "\n",
    "var = np.var(df, axis=0)*100\n",
    "print (f'Daily Variance: {\"%.2f\" % var} %')"
   ]
  },
  {
   "cell_type": "code",
   "execution_count": 15,
   "id": "ee489af5",
   "metadata": {},
   "outputs": [
    {
     "name": "stdout",
     "output_type": "stream",
     "text": [
      "Daily Volatility: 1.91 %\n",
      "Year Volatility: 30.30 %\n",
      "Monthly Volatility: 8.75 %\n"
     ]
    }
   ],
   "source": [
    "###  video 15\n",
    "\n",
    "# annualization var : var_annualy = var daily * 252\n",
    "# Annualizarion std : sqrt(var_annualy) = sqrt(var daily * 252) = sqrt(var_daily) * sqrt(252)\n",
    "\n",
    "\n",
    "std = np.std(df, axis=0)*100\n",
    "print (f'Daily Volatility: {\"%.2f\" % std} %')\n",
    "\n",
    "annual_std = np.std(df, axis=0)*100 * np.sqrt(252)\n",
    "print (f'Year Volatility: {\"%.2f\" % annual_std} %')\n",
    "\n",
    "monthly_std = np.std(df, axis=0)*100 * np.sqrt(21)\n",
    "print (f'Monthly Volatility: {\"%.2f\" % monthly_std} %')"
   ]
  },
  {
   "cell_type": "markdown",
   "id": "2c64818e",
   "metadata": {},
   "source": [
    "###  modulo 3"
   ]
  },
  {
   "cell_type": "markdown",
   "id": "7471b4ed",
   "metadata": {},
   "source": [
    "###  Video 16 - covarianza\n",
    "\n",
    "* first relationship betwen two sets of datos\n",
    "* el mod, si es negativo es porque los datos estan de los otros lados de las medias del otra columna\n",
    "\n",
    "### video 17 - Assets covarianza\n"
   ]
  },
  {
   "cell_type": "code",
   "execution_count": 16,
   "id": "88cf9769",
   "metadata": {},
   "outputs": [
    {
     "name": "stdout",
     "output_type": "stream",
     "text": [
      "[*********************100%***********************]  2 of 2 completed\n"
     ]
    },
    {
     "data": {
      "text/html": [
       "<div>\n",
       "<style scoped>\n",
       "    .dataframe tbody tr th:only-of-type {\n",
       "        vertical-align: middle;\n",
       "    }\n",
       "\n",
       "    .dataframe tbody tr th {\n",
       "        vertical-align: top;\n",
       "    }\n",
       "\n",
       "    .dataframe thead th {\n",
       "        text-align: right;\n",
       "    }\n",
       "</style>\n",
       "<table border=\"1\" class=\"dataframe\">\n",
       "  <thead>\n",
       "    <tr style=\"text-align: right;\">\n",
       "      <th></th>\n",
       "      <th>EURUSD=X</th>\n",
       "      <th>GOOG</th>\n",
       "    </tr>\n",
       "    <tr>\n",
       "      <th>Date</th>\n",
       "      <th></th>\n",
       "      <th></th>\n",
       "    </tr>\n",
       "  </thead>\n",
       "  <tbody>\n",
       "    <tr>\n",
       "      <th>2004-08-20</th>\n",
       "      <td>-0.004042</td>\n",
       "      <td>0.079430</td>\n",
       "    </tr>\n",
       "    <tr>\n",
       "      <th>2004-08-23</th>\n",
       "      <td>-0.013793</td>\n",
       "      <td>0.010064</td>\n",
       "    </tr>\n",
       "    <tr>\n",
       "      <th>2004-08-24</th>\n",
       "      <td>-0.005763</td>\n",
       "      <td>-0.041408</td>\n",
       "    </tr>\n",
       "    <tr>\n",
       "      <th>2004-08-25</th>\n",
       "      <td>0.000338</td>\n",
       "      <td>0.010775</td>\n",
       "    </tr>\n",
       "    <tr>\n",
       "      <th>2004-08-26</th>\n",
       "      <td>0.001077</td>\n",
       "      <td>0.018019</td>\n",
       "    </tr>\n",
       "    <tr>\n",
       "      <th>...</th>\n",
       "      <td>...</td>\n",
       "      <td>...</td>\n",
       "    </tr>\n",
       "    <tr>\n",
       "      <th>2022-03-09</th>\n",
       "      <td>0.003030</td>\n",
       "      <td>0.051757</td>\n",
       "    </tr>\n",
       "    <tr>\n",
       "      <th>2022-03-10</th>\n",
       "      <td>0.016112</td>\n",
       "      <td>-0.008845</td>\n",
       "    </tr>\n",
       "    <tr>\n",
       "      <th>2022-03-11</th>\n",
       "      <td>-0.005408</td>\n",
       "      <td>-0.016630</td>\n",
       "    </tr>\n",
       "    <tr>\n",
       "      <th>2022-03-14</th>\n",
       "      <td>-0.007434</td>\n",
       "      <td>-0.028622</td>\n",
       "    </tr>\n",
       "    <tr>\n",
       "      <th>2022-03-15</th>\n",
       "      <td>0.001029</td>\n",
       "      <td>0.012373</td>\n",
       "    </tr>\n",
       "  </tbody>\n",
       "</table>\n",
       "<p>4583 rows × 2 columns</p>\n",
       "</div>"
      ],
      "text/plain": [
       "            EURUSD=X      GOOG\n",
       "Date                          \n",
       "2004-08-20 -0.004042  0.079430\n",
       "2004-08-23 -0.013793  0.010064\n",
       "2004-08-24 -0.005763 -0.041408\n",
       "2004-08-25  0.000338  0.010775\n",
       "2004-08-26  0.001077  0.018019\n",
       "...              ...       ...\n",
       "2022-03-09  0.003030  0.051757\n",
       "2022-03-10  0.016112 -0.008845\n",
       "2022-03-11 -0.005408 -0.016630\n",
       "2022-03-14 -0.007434 -0.028622\n",
       "2022-03-15  0.001029  0.012373\n",
       "\n",
       "[4583 rows x 2 columns]"
      ]
     },
     "execution_count": 16,
     "metadata": {},
     "output_type": "execute_result"
    }
   ],
   "source": [
    "### video 17\n",
    "\n",
    "#import several assets\n",
    "\n",
    "df = yf.download(['GOOG', 'EURUSD=X'])['Adj Close'].pct_change(1).dropna()\n",
    "df"
   ]
  },
  {
   "cell_type": "code",
   "execution_count": 17,
   "id": "ca7f0595",
   "metadata": {},
   "outputs": [
    {
     "data": {
      "text/plain": [
       "array([[5.36256160e-05, 6.72926987e-06],\n",
       "       [6.72926987e-06, 3.51668475e-04]])"
      ]
     },
     "execution_count": 17,
     "metadata": {},
     "output_type": "execute_result"
    }
   ],
   "source": [
    "# variancce cov matriz\n",
    "\n",
    "mat = np.cov(df, rowvar=False) ### default: each raw is a sample / False porque cada columna es una muestra\n",
    "mat\n",
    "\n",
    "# en el elemento 11, es la varianza de google, y el 22, es la varianza del otro activo"
   ]
  },
  {
   "cell_type": "code",
   "execution_count": null,
   "id": "8ef53f69",
   "metadata": {},
   "outputs": [],
   "source": [
    "# covarianza\n",
    "\n",
    "mat[0][1]"
   ]
  },
  {
   "cell_type": "code",
   "execution_count": 21,
   "id": "405073a0",
   "metadata": {},
   "outputs": [
    {
     "name": "stdout",
     "output_type": "stream",
     "text": [
      "[*********************100%***********************]  3 of 3 completed\n"
     ]
    },
    {
     "data": {
      "text/html": [
       "<div>\n",
       "<style scoped>\n",
       "    .dataframe tbody tr th:only-of-type {\n",
       "        vertical-align: middle;\n",
       "    }\n",
       "\n",
       "    .dataframe tbody tr th {\n",
       "        vertical-align: top;\n",
       "    }\n",
       "\n",
       "    .dataframe thead th {\n",
       "        text-align: right;\n",
       "    }\n",
       "</style>\n",
       "<table border=\"1\" class=\"dataframe\">\n",
       "  <thead>\n",
       "    <tr style=\"text-align: right;\">\n",
       "      <th></th>\n",
       "      <th>EURUSD=X</th>\n",
       "      <th>GOOG</th>\n",
       "      <th>MSFT</th>\n",
       "    </tr>\n",
       "  </thead>\n",
       "  <tbody>\n",
       "    <tr>\n",
       "      <th>EURUSD=X</th>\n",
       "      <td>0.000054</td>\n",
       "      <td>0.000007</td>\n",
       "      <td>0.000010</td>\n",
       "    </tr>\n",
       "    <tr>\n",
       "      <th>GOOG</th>\n",
       "      <td>0.000007</td>\n",
       "      <td>0.000352</td>\n",
       "      <td>0.000169</td>\n",
       "    </tr>\n",
       "    <tr>\n",
       "      <th>MSFT</th>\n",
       "      <td>0.000010</td>\n",
       "      <td>0.000169</td>\n",
       "      <td>0.000278</td>\n",
       "    </tr>\n",
       "  </tbody>\n",
       "</table>\n",
       "</div>"
      ],
      "text/plain": [
       "          EURUSD=X      GOOG      MSFT\n",
       "EURUSD=X  0.000054  0.000007  0.000010\n",
       "GOOG      0.000007  0.000352  0.000169\n",
       "MSFT      0.000010  0.000169  0.000278"
      ]
     },
     "execution_count": 21,
     "metadata": {},
     "output_type": "execute_result"
    }
   ],
   "source": [
    "# Variancae Covaranza  matrix\n",
    "df = yf.download(['GOOG', 'EURUSD=X', 'MSFT'])['Adj Close'].pct_change(1).dropna()\n",
    "mat = np.cov(df, rowvar=False) ### default: each raw is a sample / False porque cada columna es una muestra\n",
    "pd.DataFrame(mat, columns = df.columns, index=df.columns)"
   ]
  },
  {
   "cell_type": "markdown",
   "id": "a773cf2a",
   "metadata": {},
   "source": [
    "###  video 19 - correlation\n",
    "\n",
    "correlation: standarizado valor de covaranza.\n",
    "\n",
    "-1 < coor < 0: negative relationship   \n",
    "corr = 0 : no relationship   \n",
    "0 < corr < 1: Positive relationship\n",
    "\n"
   ]
  },
  {
   "cell_type": "code",
   "execution_count": 23,
   "id": "a53dd5c2",
   "metadata": {},
   "outputs": [
    {
     "name": "stdout",
     "output_type": "stream",
     "text": [
      "[*********************100%***********************]  5 of 5 completed\n"
     ]
    },
    {
     "data": {
      "text/html": [
       "<div>\n",
       "<style scoped>\n",
       "    .dataframe tbody tr th:only-of-type {\n",
       "        vertical-align: middle;\n",
       "    }\n",
       "\n",
       "    .dataframe tbody tr th {\n",
       "        vertical-align: top;\n",
       "    }\n",
       "\n",
       "    .dataframe thead th {\n",
       "        text-align: right;\n",
       "    }\n",
       "</style>\n",
       "<table border=\"1\" class=\"dataframe\">\n",
       "  <thead>\n",
       "    <tr style=\"text-align: right;\">\n",
       "      <th></th>\n",
       "      <th>AMZN</th>\n",
       "      <th>EURUSD=X</th>\n",
       "      <th>GOOG</th>\n",
       "      <th>MSFT</th>\n",
       "      <th>TSLA</th>\n",
       "    </tr>\n",
       "  </thead>\n",
       "  <tbody>\n",
       "    <tr>\n",
       "      <th>AMZN</th>\n",
       "      <td>1.000000</td>\n",
       "      <td>0.035454</td>\n",
       "      <td>0.573636</td>\n",
       "      <td>0.532395</td>\n",
       "      <td>0.321363</td>\n",
       "    </tr>\n",
       "    <tr>\n",
       "      <th>EURUSD=X</th>\n",
       "      <td>0.035454</td>\n",
       "      <td>1.000000</td>\n",
       "      <td>-0.001946</td>\n",
       "      <td>-0.009114</td>\n",
       "      <td>-0.010423</td>\n",
       "    </tr>\n",
       "    <tr>\n",
       "      <th>GOOG</th>\n",
       "      <td>0.573636</td>\n",
       "      <td>-0.001946</td>\n",
       "      <td>1.000000</td>\n",
       "      <td>0.626026</td>\n",
       "      <td>0.308364</td>\n",
       "    </tr>\n",
       "    <tr>\n",
       "      <th>MSFT</th>\n",
       "      <td>0.532395</td>\n",
       "      <td>-0.009114</td>\n",
       "      <td>0.626026</td>\n",
       "      <td>1.000000</td>\n",
       "      <td>0.332464</td>\n",
       "    </tr>\n",
       "    <tr>\n",
       "      <th>TSLA</th>\n",
       "      <td>0.321363</td>\n",
       "      <td>-0.010423</td>\n",
       "      <td>0.308364</td>\n",
       "      <td>0.332464</td>\n",
       "      <td>1.000000</td>\n",
       "    </tr>\n",
       "  </tbody>\n",
       "</table>\n",
       "</div>"
      ],
      "text/plain": [
       "              AMZN  EURUSD=X      GOOG      MSFT      TSLA\n",
       "AMZN      1.000000  0.035454  0.573636  0.532395  0.321363\n",
       "EURUSD=X  0.035454  1.000000 -0.001946 -0.009114 -0.010423\n",
       "GOOG      0.573636 -0.001946  1.000000  0.626026  0.308364\n",
       "MSFT      0.532395 -0.009114  0.626026  1.000000  0.332464\n",
       "TSLA      0.321363 -0.010423  0.308364  0.332464  1.000000"
      ]
     },
     "execution_count": 23,
     "metadata": {},
     "output_type": "execute_result"
    }
   ],
   "source": [
    "### Correlation matrix\n",
    "df = yf.download(['GOOG', 'EURUSD=X', 'MSFT','AMZN', 'TSLA'])['Adj Close'].pct_change(1).dropna()\n",
    "\n",
    "df.corr()\n"
   ]
  },
  {
   "cell_type": "code",
   "execution_count": null,
   "id": "41c5d02a",
   "metadata": {},
   "outputs": [],
   "source": []
  },
  {
   "cell_type": "code",
   "execution_count": null,
   "id": "24678ab1",
   "metadata": {},
   "outputs": [],
   "source": []
  },
  {
   "cell_type": "code",
   "execution_count": null,
   "id": "8f3b45cc",
   "metadata": {},
   "outputs": [],
   "source": []
  },
  {
   "cell_type": "code",
   "execution_count": null,
   "id": "24d070fe",
   "metadata": {},
   "outputs": [],
   "source": []
  },
  {
   "cell_type": "code",
   "execution_count": null,
   "id": "94193d1a",
   "metadata": {},
   "outputs": [],
   "source": []
  }
 ],
 "metadata": {
  "kernelspec": {
   "display_name": "Python 3 (ipykernel)",
   "language": "python",
   "name": "python3"
  },
  "language_info": {
   "codemirror_mode": {
    "name": "ipython",
    "version": 3
   },
   "file_extension": ".py",
   "mimetype": "text/x-python",
   "name": "python",
   "nbconvert_exporter": "python",
   "pygments_lexer": "ipython3",
   "version": "3.8.12"
  }
 },
 "nbformat": 4,
 "nbformat_minor": 5
}
